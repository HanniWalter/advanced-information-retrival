{
 "cells": [
  {
   "cell_type": "markdown",
   "id": "1269dc33-ea30-4651-b09a-3fe17d2ed2a5",
   "metadata": {},
   "source": [
    "# Import Everything"
   ]
  },
  {
   "cell_type": "code",
   "execution_count": 1,
   "id": "194f9fcd-6144-4cba-846c-201bbad53368",
   "metadata": {},
   "outputs": [
    {
     "name": "stdout",
     "output_type": "stream",
     "text": [
      "Start PyTerrier with version=5.7, helper_version=0.0.7, no_download=True\n"
     ]
    },
    {
     "name": "stderr",
     "output_type": "stream",
     "text": [
      "PyTerrier 0.9.2 has loaded Terrier 5.7 (built by craigm on 2022-11-10 18:30) and terrier-helper 0.0.7\n",
      "\n",
      "No etc/terrier.properties, using terrier.default.properties for bootstrap configuration.\n"
     ]
    }
   ],
   "source": [
    "from tira.third_party_integrations import ir_datasets, ensure_pyterrier_is_loaded, persist_and_normalize_run\n",
    "from tira.rest_api_client import Client\n",
    "import pyterrier as pt\n",
    "import pandas as pd\n",
    "from sklearn.ensemble import RandomForestRegressor\n",
    "from trectools import TrecRun, TrecQrel, TrecEval\n",
    "from glob import glob\n",
    "import os, shutil\n",
    "\n",
    "ensure_pyterrier_is_loaded()\n",
    "\n",
    "#from jnius import autoclass"
   ]
  },
  {
   "cell_type": "code",
   "execution_count": 2,
   "id": "33abb1c8-6703-4f84-9497-99f2462785f9",
   "metadata": {},
   "outputs": [],
   "source": [
    "if not pt.started():\n",
    "    pt.init(boot_packages=['mam10eks:custom-terrier-token-processing:0.0.1'])"
   ]
  },
  {
   "cell_type": "code",
   "execution_count": 3,
   "id": "9ce514b4-c65f-434d-aef1-1ff3c9a61c7b",
   "metadata": {},
   "outputs": [],
   "source": [
    "training_dataset_path = 'ir-lab-jena-leipzig-wise-2023/training-20231104-training'\n",
    "validation_dataset_path = 'ir-lab-jena-leipzig-wise-2023/validation-20231104-training'"
   ]
  },
  {
   "cell_type": "code",
   "execution_count": 4,
   "id": "dd451f2e-f57d-4b90-ac8b-306010eb6d79",
   "metadata": {},
   "outputs": [
    {
     "name": "stdout",
     "output_type": "stream",
     "text": [
      "Load ir_dataset \"ir-lab-jena-leipzig-wise-2023/training-20231104-training\" from tira.\n",
      "No settings given in /root/.tira/.tira-settings.json. I will use defaults.\n",
      "No settings given in /root/.tira/.tira-settings.json. I will use defaults.\n"
     ]
    }
   ],
   "source": [
    "training_dataset = ir_datasets.load(training_dataset_path)\n",
    "training_queries = pt.io.read_topics(ir_datasets.topics_file(training_dataset_path), format='trecxml')\n",
    "training_qrels = pd.DataFrame(training_dataset.qrels_iter()).rename(columns={\"query_id\": \"qid\"})"
   ]
  },
  {
   "cell_type": "markdown",
   "id": "0514ad70-ee4a-4f02-8a6c-111a1b3cc189",
   "metadata": {},
   "source": [
    "### Setup Parameter"
   ]
  },
  {
   "cell_type": "code",
   "execution_count": 7,
   "id": "9d8e15e1-f00e-4502-82a0-a5b32fc60a1a",
   "metadata": {},
   "outputs": [],
   "source": [
    "os.environ[\"BM25_k_1\"] = \"1.3\"\n",
    "os.environ[\"BM25_b\"] = \"0.5\"\n",
    "os.environ[\"LM_mu\"] = \"1000\""
   ]
  },
  {
   "cell_type": "markdown",
   "id": "8b33437b-b28d-488c-b953-6bccc6294dac",
   "metadata": {},
   "source": [
    "## Create Index"
   ]
  },
  {
   "cell_type": "code",
   "execution_count": 8,
   "id": "cec7bdbe-d8c5-4d4c-8770-abf92b88a74f",
   "metadata": {},
   "outputs": [],
   "source": [
    "def create_index(documents):\n",
    "    indexer = pt.IterDictIndexer(\"/tmp/index\", overwrite=True, meta={'docno': 100, 'text': 20480}, verbose=True)\n",
    "    index_ref = indexer.index(({'docno': i.doc_id, 'text': i.text} for i in documents))\n",
    "    return pt.IndexFactory.of(index_ref)"
   ]
  },
  {
   "cell_type": "code",
   "execution_count": 9,
   "id": "b5392abc-9466-42bd-a0bc-26f259654fe6",
   "metadata": {},
   "outputs": [
    {
     "name": "stdout",
     "output_type": "stream",
     "text": [
      "No settings given in /root/.tira/.tira-settings.json. I will use defaults.\n"
     ]
    }
   ],
   "source": [
    "index = create_index(training_dataset.docs_iter())"
   ]
  },
  {
   "cell_type": "markdown",
   "id": "16117ed5-aaf5-4ce8-bc60-88a5fa5a7ed7",
   "metadata": {},
   "source": [
    "### BM25"
   ]
  },
  {
   "cell_type": "code",
   "execution_count": 10,
   "id": "9d3cc6e0-3655-4db5-bb3d-cb5eb8fcea9b",
   "metadata": {},
   "outputs": [],
   "source": [
    "# read environment variables\n",
    "b = os.environ.get('BM25_b', \"error\" )\n",
    "if b == \"error\":\n",
    "    raise ValueError(\"Environment variable BM25_b is not set\")\n",
    "b = float(b)\n",
    "k_1 = os.environ.get('BM25_k_1', \"error\" )\n",
    "if k_1 == \"error\":\n",
    "    raise ValueError(\"Environment variable BM25_k_1 is not set\")\n",
    "k_1 = float(k_1)"
   ]
  },
  {
   "cell_type": "code",
   "execution_count": 11,
   "id": "35ce8d2c-fc96-494f-9808-a76b1ad4604c",
   "metadata": {},
   "outputs": [],
   "source": [
    "configuration = {\"bm25.b\" : b, \"bm25.k_1\": k_1}\n",
    "bm25 = pt.BatchRetrieve(index, wmodel=\"BM25\", controls=configuration, verbose=True)"
   ]
  },
  {
   "cell_type": "code",
   "execution_count": 12,
   "id": "bcdb9225-623e-4587-970b-52baa62dc63a",
   "metadata": {},
   "outputs": [
    {
     "name": "stderr",
     "output_type": "stream",
     "text": [
      "BR(BM25): 100%|████████████████████████████████████████████████████████████████████████| 672/672 [10:01<00:00,  1.12q/s]\n"
     ]
    }
   ],
   "source": [
    "bm25Results = bm25(training_queries)"
   ]
  },
  {
   "cell_type": "code",
   "execution_count": 15,
   "id": "367f0c5b-e7f3-4646-a687-f06a5e0ab2ce",
   "metadata": {},
   "outputs": [],
   "source": [
    "bm25_results = bm25Results"
   ]
  },
  {
   "cell_type": "markdown",
   "id": "8199dd9f-21f2-4dec-9131-02c4d01c8fae",
   "metadata": {},
   "source": [
    "### LM"
   ]
  },
  {
   "cell_type": "code",
   "execution_count": 16,
   "id": "cf1ba109-b34a-472d-8bb3-0ddffb3c4fe6",
   "metadata": {},
   "outputs": [],
   "source": [
    "mu = os.environ.get('LM_mu', \"error\" )\n",
    "if mu == \"error\":\n",
    "    raise ValueError(\"Environment variable LM_mu is not set\")\n",
    "mu = float(mu)"
   ]
  },
  {
   "cell_type": "code",
   "execution_count": 18,
   "id": "95d45680-ce47-4b7d-a053-bacbc1fe7bef",
   "metadata": {},
   "outputs": [],
   "source": [
    "from jnius import autoclass\n",
    "dlm = autoclass(\"org.terrier.matching.models.DirichletLM\")()\n",
    "dlm.mu=mu\n",
    "lm = pt.BatchRetrieve(index, wmodel=dlm, verbose=True)"
   ]
  },
  {
   "cell_type": "code",
   "execution_count": 19,
   "id": "11af6830-7286-46ce-9e81-6c42290e6620",
   "metadata": {},
   "outputs": [
    {
     "name": "stderr",
     "output_type": "stream",
     "text": [
      "BR(DPH): 100%|█████████████████████████████████████████████████████████████████████████| 672/672 [10:06<00:00,  1.11q/s]\n"
     ]
    }
   ],
   "source": [
    "lm_results = lm(training_queries)"
   ]
  },
  {
   "cell_type": "markdown",
   "id": "86cbac9f-395e-4568-932f-15eb6a5a0f0d",
   "metadata": {},
   "source": [
    "### LTR"
   ]
  },
  {
   "cell_type": "code",
   "execution_count": 21,
   "id": "3d60817b-3369-4d2d-acc4-e7937ce6a8a7",
   "metadata": {},
   "outputs": [],
   "source": [
    "# Setup\n",
    "import numpy as np\n",
    "merged_results = pd.merge(bm25_results, lm_results, on=['qid', 'docno'])\n",
    "merged_results['features'] = merged_results.apply(lambda row: np.array([row['rank_x'], row['score_y'], row['rank_y']]), axis=1)\n",
    "merged_results = merged_results.rename(columns={'doc_id': 'docno', 'score_x': 'score'})\n",
    "new_df = merged_results[['qid', 'docno', 'score', 'features']]\n",
    "training_qrels = training_qrels.rename(columns={'doc_id': 'docno', 'relevance': 'label'})"
   ]
  },
  {
   "cell_type": "code",
   "execution_count": null,
   "id": "fbcf58e9-e955-4f9f-a4a0-83d58c630ec5",
   "metadata": {},
   "outputs": [],
   "source": [
    "#bm25_cleaned = pt.Transformer.from_df(bm25_results)\n",
    "#lm_cleaned = pt.Transformer.from_df(lm_results)\n",
    "#rank_feature = pt.apply.doc_score(lambda row: row['rank'])\n",
    "\n",
    "#pipeline = bm25_cleaned >> (lm_cleaned ** rank_feature)"
   ]
  },
  {
   "cell_type": "code",
   "execution_count": 22,
   "id": "45530624-c261-4816-bf30-000499ccb851",
   "metadata": {},
   "outputs": [],
   "source": [
    "pipeline = pt.Transformer.from_df(new_df)\n",
    "rf = RandomForestRegressor(n_estimators=400)\n",
    "ltr = pipeline >> pt.ltr.apply_learned_model(rf)"
   ]
  },
  {
   "cell_type": "code",
   "execution_count": 23,
   "id": "e3212f36-349e-412e-96e1-c93eab68c5a3",
   "metadata": {},
   "outputs": [],
   "source": [
    "ltr.fit(pd.DataFrame(training_queries), training_qrels)"
   ]
  },
  {
   "cell_type": "markdown",
   "id": "115f6ab5-6496-4f4b-bd3c-a38290a12ff7",
   "metadata": {},
   "source": [
    "## Final run and persist"
   ]
  },
  {
   "cell_type": "code",
   "execution_count": 26,
   "id": "89214f9d-2b34-4c40-9b5b-4a187947dfe3",
   "metadata": {},
   "outputs": [],
   "source": [
    "save_path = os.environ.get(\"TIRA_OUTPUT_DIRECTORY\", \".\")"
   ]
  },
  {
   "cell_type": "code",
   "execution_count": 31,
   "id": "aaee1d45-4971-4992-9097-e327d6508b51",
   "metadata": {},
   "outputs": [],
   "source": [
    "ltr_result = ltr(training_queries)"
   ]
  },
  {
   "cell_type": "code",
   "execution_count": 32,
   "id": "dfeab51c-e676-4fa5-bd86-77d1a0aa80b8",
   "metadata": {},
   "outputs": [
    {
     "name": "stdout",
     "output_type": "stream",
     "text": [
      "I use the environment variable \"TIRA_OUTPUT_DIRECTORY\" to determine where I should store the run file using \".\" as default.\n",
      "Done. run file is stored under \"./run.txt\".\n"
     ]
    }
   ],
   "source": [
    "persist_and_normalize_run(ltr_result, save_path)"
   ]
  },
  {
   "cell_type": "code",
   "execution_count": null,
   "id": "c67b25aa-e6fc-4fe4-b4c2-894899ba1d20",
   "metadata": {},
   "outputs": [],
   "source": []
  }
 ],
 "metadata": {
  "kernelspec": {
   "display_name": "Python 3 (ipykernel)",
   "language": "python",
   "name": "python3"
  },
  "language_info": {
   "codemirror_mode": {
    "name": "ipython",
    "version": 3
   },
   "file_extension": ".py",
   "mimetype": "text/x-python",
   "name": "python",
   "nbconvert_exporter": "python",
   "pygments_lexer": "ipython3",
   "version": "3.10.12"
  }
 },
 "nbformat": 4,
 "nbformat_minor": 5
}
