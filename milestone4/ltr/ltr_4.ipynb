{
 "cells": [
  {
   "cell_type": "code",
   "execution_count": 5,
   "id": "a429bf6f-0771-44ae-8d9e-aba1170ce947",
   "metadata": {},
   "outputs": [],
   "source": [
    "from tira.third_party_integrations import ir_datasets, ensure_pyterrier_is_loaded, persist_and_normalize_run\n",
    "import pyterrier as pt\n",
    "import pandas as pd\n",
    "import numpy as np\n",
    "\n",
    "ensure_pyterrier_is_loaded()\n",
    "\n",
    "training_dataset_path = 'ir-lab-jena-leipzig-wise-2023/training-20231104-training'\n",
    "validation_dataset_path = 'ir-lab-jena-leipzig-wise-2023/validation-20231104-training'"
   ]
  },
  {
   "cell_type": "markdown",
   "id": "6982fffb",
   "metadata": {},
   "source": [
    "### import previously made BM25 results"
   ]
  },
  {
   "cell_type": "code",
   "execution_count": 6,
   "id": "6f7ba7bf",
   "metadata": {},
   "outputs": [],
   "source": [
    "import os\n",
    "from glob import glob"
   ]
  },
  {
   "cell_type": "code",
   "execution_count": 7,
   "id": "c607be24-80e1-43af-9c73-44599481d6aa",
   "metadata": {},
   "outputs": [
    {
     "name": "stdout",
     "output_type": "stream",
     "text": [
      "../../grid-search/training/bm25-b=0.75-k_1=1.2/run.txt\n"
     ]
    }
   ],
   "source": [
    "basePath = \"../../grid-search/training\"\n",
    "input_files = glob(os.path.join(basePath, '**/*.txt'))\n",
    "\n",
    "test_input = input_files[0]\n",
    "print(test_input)"
   ]
  },
  {
   "cell_type": "code",
   "execution_count": 8,
   "id": "642d7638-ef7e-421a-981c-7c955cb41da4",
   "metadata": {},
   "outputs": [
    {
     "name": "stdout",
     "output_type": "stream",
     "text": [
      "               qid            docno  rank      score                 name\n",
      "0       q062210081  doc062200602177     1  14.266406  bm25-b=0.75-k_1=1.2\n",
      "1       q062210081  doc062200206592     2  14.123982  bm25-b=0.75-k_1=1.2\n",
      "2       q062210081  doc062210912628     3  14.037971  bm25-b=0.75-k_1=1.2\n",
      "3       q062210081  doc062200201629     4  13.842112  bm25-b=0.75-k_1=1.2\n",
      "4       q062210081  doc062200304990     5  13.688794  bm25-b=0.75-k_1=1.2\n",
      "...            ...              ...   ...        ...                  ...\n",
      "625518   q06229908  doc062207505063   996   4.631728  bm25-b=0.75-k_1=1.2\n",
      "625519   q06229908  doc062200201995   997   4.628934  bm25-b=0.75-k_1=1.2\n",
      "625520   q06229908  doc062200204993   998   4.627846  bm25-b=0.75-k_1=1.2\n",
      "625521   q06229908  doc062202102915   999   4.627371  bm25-b=0.75-k_1=1.2\n",
      "625522   q06229908  doc062200500656  1000   4.626296  bm25-b=0.75-k_1=1.2\n",
      "\n",
      "[625523 rows x 5 columns]\n"
     ]
    }
   ],
   "source": [
    "bm25_results = pt.io.read_results(test_input)\n",
    "print(bm25_results)"
   ]
  },
  {
   "cell_type": "code",
   "execution_count": 9,
   "id": "72072ca1-7cd0-45b8-94b0-9aafe22046e8",
   "metadata": {},
   "outputs": [
    {
     "name": "stdout",
     "output_type": "stream",
     "text": [
      "               qid            docno  rank      score          name\n",
      "0       q062210081  doc062200104006     1  10.296331  lm-mu=1500.0\n",
      "1       q062210081  doc062200111527     2   9.662938  lm-mu=1500.0\n",
      "2       q062210081  doc062200201629     3   9.519325  lm-mu=1500.0\n",
      "3       q062210081  doc062200206592     4   8.864250  lm-mu=1500.0\n",
      "4       q062210081  doc062200602177     5   8.411923  lm-mu=1500.0\n",
      "...            ...              ...   ...        ...           ...\n",
      "625518   q06229908  doc062208101904   996   1.916573  lm-mu=1500.0\n",
      "625519   q06229908  doc062200210772   997   1.911147  lm-mu=1500.0\n",
      "625520   q06229908  doc062201903468   998   1.908658  lm-mu=1500.0\n",
      "625521   q06229908  doc062201306155   999   1.907860  lm-mu=1500.0\n",
      "625522   q06229908  doc062202102686  1000   1.907781  lm-mu=1500.0\n",
      "\n",
      "[625523 rows x 5 columns]\n"
     ]
    }
   ],
   "source": [
    "lm_results = pt.io.read_results(\"lm.txt\")\n",
    "print(lm_results)"
   ]
  },
  {
   "cell_type": "markdown",
   "id": "c0f21791-40b2-4558-abac-230013cc5e80",
   "metadata": {},
   "source": [
    "## prepare data for LTR"
   ]
  },
  {
   "cell_type": "code",
   "execution_count": 10,
   "id": "8720be5c-51ed-4a50-a604-855f39b24548",
   "metadata": {},
   "outputs": [
    {
     "name": "stdout",
     "output_type": "stream",
     "text": [
      "Load ir_dataset \"ir-lab-jena-leipzig-wise-2023/training-20231104-training\" from tira.\n",
      "No settings given in /root/.tira/.tira-settings.json. I will use defaults.\n",
      "No settings given in /root/.tira/.tira-settings.json. I will use defaults.\n",
      "Load ir_dataset \"ir-lab-jena-leipzig-wise-2023/validation-20231104-training\" from tira.\n",
      "No settings given in /root/.tira/.tira-settings.json. I will use defaults.\n",
      "No settings given in /root/.tira/.tira-settings.json. I will use defaults.\n",
      "            qid                       query\n",
      "0     q06223196                 car shelter\n",
      "1       q062228                     airport\n",
      "2       q062287        antivirus comparison\n",
      "3     q06223261              free antivirus\n",
      "4       q062291            orange antivirus\n",
      "..          ...                         ...\n",
      "667  q062224914             tax garden shed\n",
      "668  q062224961              land of france\n",
      "669  q062225030   find my training pole job\n",
      "670  q062225194                     gpl car\n",
      "671  q062225197                cheapest car\n",
      "\n",
      "[672 rows x 2 columns]\n"
     ]
    }
   ],
   "source": [
    "training_dataset = ir_datasets.load(training_dataset_path)\n",
    "training_queries = pt.io.read_topics(ir_datasets.topics_file(training_dataset_path), format='trecxml')\n",
    "training_qrels = pd.DataFrame(training_dataset.qrels_iter()).rename(columns={\"query_id\": \"qid\"})\n",
    "\n",
    "validation_dataset = ir_datasets.load(validation_dataset_path)\n",
    "validation_queries = pt.io.read_topics(ir_datasets.topics_file(validation_dataset_path), format='trecxml')\n",
    "validation_qrels = pd.DataFrame(validation_dataset.qrels_iter()).rename(columns={\"query_id\": \"qid\"})\n",
    "\n",
    "print(training_queries)"
   ]
  },
  {
   "cell_type": "code",
   "execution_count": 11,
   "id": "6d5c293b-d1f8-4c8e-b084-d022cceb9b0d",
   "metadata": {},
   "outputs": [
    {
     "name": "stdout",
     "output_type": "stream",
     "text": [
      "               qid            docno  rank_x    score_x               name_x  \\\n",
      "0       q062210081  doc062200602177       1  14.266406  bm25-b=0.75-k_1=1.2   \n",
      "1       q062210081  doc062200206592       2  14.123982  bm25-b=0.75-k_1=1.2   \n",
      "2       q062210081  doc062210912628       3  14.037971  bm25-b=0.75-k_1=1.2   \n",
      "3       q062210081  doc062200201629       4  13.842112  bm25-b=0.75-k_1=1.2   \n",
      "4       q062210081  doc062200304990       5  13.688794  bm25-b=0.75-k_1=1.2   \n",
      "...            ...              ...     ...        ...                  ...   \n",
      "489061   q06229908  doc062201801608     989   4.639605  bm25-b=0.75-k_1=1.2   \n",
      "489062   q06229908  doc062207505063     996   4.631728  bm25-b=0.75-k_1=1.2   \n",
      "489063   q06229908  doc062200201995     997   4.628934  bm25-b=0.75-k_1=1.2   \n",
      "489064   q06229908  doc062200204993     998   4.627846  bm25-b=0.75-k_1=1.2   \n",
      "489065   q06229908  doc062200500656    1000   4.626296  bm25-b=0.75-k_1=1.2   \n",
      "\n",
      "        rank_y   score_y        name_y  \n",
      "0            5  8.411923  lm-mu=1500.0  \n",
      "1            4  8.864250  lm-mu=1500.0  \n",
      "2            8  8.092232  lm-mu=1500.0  \n",
      "3            3  9.519325  lm-mu=1500.0  \n",
      "4           12  7.660348  lm-mu=1500.0  \n",
      "...        ...       ...           ...  \n",
      "489061     900  2.068437  lm-mu=1500.0  \n",
      "489062     985  1.935733  lm-mu=1500.0  \n",
      "489063     986  1.934231  lm-mu=1500.0  \n",
      "489064     696  2.329352  lm-mu=1500.0  \n",
      "489065     697  2.328146  lm-mu=1500.0  \n",
      "\n",
      "[489066 rows x 8 columns]\n"
     ]
    }
   ],
   "source": [
    "merged_results = pd.merge(bm25_results, lm_results, on=['qid', 'docno'])\n",
    "print(merged_results)"
   ]
  },
  {
   "cell_type": "code",
   "execution_count": 12,
   "id": "e2731067-8ee4-4b9d-a22f-e2c4147ba369",
   "metadata": {},
   "outputs": [
    {
     "name": "stdout",
     "output_type": "stream",
     "text": [
      "[[14.26640626  8.41192339]\n",
      " [14.12398236  8.86425045]\n",
      " [14.03797094  8.09223216]\n",
      " ...\n",
      " [ 4.62893396  1.93423078]\n",
      " [ 4.6278459   2.32935189]\n",
      " [ 4.62629557  2.32814613]]\n"
     ]
    }
   ],
   "source": [
    "features = merged_results[['score_x', 'score_y']].values\n",
    "print(features)"
   ]
  },
  {
   "cell_type": "markdown",
   "id": "6cb92562-4713-4c96-bbce-61ba2f70a131",
   "metadata": {},
   "source": [
    "## Just combination"
   ]
  },
  {
   "cell_type": "code",
   "execution_count": 13,
   "id": "c6aa1349-4380-4d05-9a07-a793b9736d5b",
   "metadata": {},
   "outputs": [
    {
     "name": "stdout",
     "output_type": "stream",
     "text": [
      "Compose(Transformer(), FUnion(Transformer(), pt.apply.doc_score()))\n"
     ]
    }
   ],
   "source": [
    "bm25 = pt.Transformer.from_df(bm25_results)\n",
    "lm = pt.Transformer.from_df(lm_results)\n",
    "featureA = pt.apply.doc_score(lambda row: row['rank'])\n",
    "\n",
    "pipeline = bm25 >> (lm ** featureA)\n",
    "print(pipeline)"
   ]
  },
  {
   "cell_type": "code",
   "execution_count": 14,
   "id": "ec720daa-57af-4070-b3a1-cfcd87c83485",
   "metadata": {},
   "outputs": [
    {
     "name": "stdout",
     "output_type": "stream",
     "text": [
      "               qid            docno      score  \\\n",
      "0       q062210081  doc062200602177  14.266406   \n",
      "1       q062210081  doc062200206592  14.123982   \n",
      "2       q062210081  doc062210912628  14.037971   \n",
      "3       q062210081  doc062200201629  13.842112   \n",
      "4       q062210081  doc062200304990  13.688794   \n",
      "...            ...              ...        ...   \n",
      "489061   q06229908  doc062201801608   4.639605   \n",
      "489062   q06229908  doc062207505063   4.631728   \n",
      "489063   q06229908  doc062200201995   4.628934   \n",
      "489064   q06229908  doc062200204993   4.627846   \n",
      "489065   q06229908  doc062200500656   4.626296   \n",
      "\n",
      "                                   features  \n",
      "0              [1.0, 8.41192338523742, 5.0]  \n",
      "1             [2.0, 8.864250453721736, 4.0]  \n",
      "2              [3.0, 8.09223216041958, 8.0]  \n",
      "3             [4.0, 9.519325132152874, 3.0]  \n",
      "4            [5.0, 7.660348333339622, 12.0]  \n",
      "...                                     ...  \n",
      "489061    [989.0, 2.068436687270035, 900.0]  \n",
      "489062    [996.0, 1.935732804516672, 985.0]  \n",
      "489063     [997.0, 1.93423077935144, 986.0]  \n",
      "489064   [998.0, 2.3293518944942555, 696.0]  \n",
      "489065  [1000.0, 2.3281461317488583, 697.0]  \n",
      "\n",
      "[489066 rows x 4 columns]\n"
     ]
    }
   ],
   "source": [
    "merged_results['features'] = merged_results.apply(lambda row: np.array([row['rank_x'], row['score_y'], row['rank_y']]), axis=1)\n",
    "merged_results = merged_results.rename(columns={'doc_id': 'docno', 'score_x': 'score'})\n",
    "#print(merged_results)\n",
    "new_df = merged_results[['qid', 'docno', 'score', 'features']]\n",
    "print(new_df)"
   ]
  },
  {
   "cell_type": "code",
   "execution_count": 15,
   "id": "53828ceb-c8fd-4afc-bb49-e8fd0616276d",
   "metadata": {},
   "outputs": [],
   "source": [
    "new_pipeline = pt.Transformer.from_df(new_df)"
   ]
  },
  {
   "cell_type": "code",
   "execution_count": 16,
   "id": "3f7a9b75-c893-4fe4-9869-0457c14f6342",
   "metadata": {},
   "outputs": [],
   "source": [
    "#pt.Experiment([bm25, lm, pipeline], pd.DataFrame(training_queries), training_qrels, eval_metrics=['ndcg_cut_5'])"
   ]
  },
  {
   "cell_type": "code",
   "execution_count": 17,
   "id": "8703a204-471d-4a70-8c9b-bbc65331d37b",
   "metadata": {},
   "outputs": [],
   "source": [
    "from sklearn.ensemble import RandomForestRegressor\n",
    "rf = RandomForestRegressor(n_estimators=400)"
   ]
  },
  {
   "cell_type": "code",
   "execution_count": 18,
   "id": "b0023848-50e3-4731-a5b9-9515adce3994",
   "metadata": {},
   "outputs": [
    {
     "name": "stdout",
     "output_type": "stream",
     "text": [
      "             qid            docno  label iteration\n",
      "0      q06223196  doc062200112743      0         0\n",
      "1      q06223196  doc062200205250      0         0\n",
      "2      q06223196  doc062200101983      0         0\n",
      "3      q06223196  doc062200204465      1         0\n",
      "4      q06223196  doc062200115614      0         0\n",
      "...          ...              ...    ...       ...\n",
      "9651  q062225197  doc062200205276      0         0\n",
      "9652  q062225197  doc062200107121      1         0\n",
      "9653  q062225197  doc062200204419      0         0\n",
      "9654  q062225197  doc062200103774      0         0\n",
      "9655  q062225197  doc062200110087      0         0\n",
      "\n",
      "[9656 rows x 4 columns]\n"
     ]
    }
   ],
   "source": [
    "training_qrels = training_qrels.rename(columns={'doc_id': 'docno', 'relevance': 'label'})\n",
    "print(training_qrels)"
   ]
  },
  {
   "cell_type": "code",
   "execution_count": null,
   "id": "dc3b79d7-cd0d-4d26-9aef-af793414ff79",
   "metadata": {},
   "outputs": [],
   "source": [
    "rf_pipe = new_pipeline >> pt.ltr.apply_learned_model(rf)\n",
    "rf_pipe.fit(pd.DataFrame(training_queries), training_qrels)"
   ]
  },
  {
   "cell_type": "code",
   "execution_count": null,
   "id": "63cb96c4-7ca2-4721-8e54-808e692d9512",
   "metadata": {},
   "outputs": [],
   "source": [
    "pt.Experiment([bm25, lm, rf_pipe], pd.DataFrame(training_queries), training_qrels, eval_metrics=['NDCG@5', 'NDCG@10', 'P@10'], names=[\"BM25 Baseline\", \"LM Baseline\", \"LTR\"])"
   ]
  },
  {
   "cell_type": "code",
   "execution_count": null,
   "id": "cf302484-de95-48aa-b00f-9b00cb3c16d6",
   "metadata": {},
   "outputs": [],
   "source": [
    "#pt.Experiment([bm25, lm, bm25 >> lm], pd.DataFrame(training_queries), training_qrels, eval_metrics=['ndcg_cut_5'], names=[\"BM25 Baseline\", \"LM Baseline\", \"Combines\"])"
   ]
  },
  {
   "cell_type": "code",
   "execution_count": null,
   "id": "70312a56-c778-4a8b-809f-fdf025dd1aa4",
   "metadata": {},
   "outputs": [],
   "source": []
  }
 ],
 "metadata": {
  "kernelspec": {
   "display_name": "Python 3 (ipykernel)",
   "language": "python",
   "name": "python3"
  },
  "language_info": {
   "codemirror_mode": {
    "name": "ipython",
    "version": 3
   },
   "file_extension": ".py",
   "mimetype": "text/x-python",
   "name": "python",
   "nbconvert_exporter": "python",
   "pygments_lexer": "ipython3",
   "version": "3.10.12"
  }
 },
 "nbformat": 4,
 "nbformat_minor": 5
}
