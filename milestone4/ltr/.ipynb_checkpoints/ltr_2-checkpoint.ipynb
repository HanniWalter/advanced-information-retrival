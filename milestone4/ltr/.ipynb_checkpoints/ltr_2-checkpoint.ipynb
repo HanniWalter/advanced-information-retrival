{
 "cells": [
  {
   "cell_type": "code",
   "execution_count": 1,
   "id": "a429bf6f-0771-44ae-8d9e-aba1170ce947",
   "metadata": {},
   "outputs": [
    {
     "name": "stdout",
     "output_type": "stream",
     "text": [
      "Start PyTerrier with version=5.7, helper_version=0.0.7, no_download=True\n"
     ]
    },
    {
     "name": "stderr",
     "output_type": "stream",
     "text": [
      "PyTerrier 0.9.2 has loaded Terrier 5.7 (built by craigm on 2022-11-10 18:30) and terrier-helper 0.0.7\n",
      "\n",
      "No etc/terrier.properties, using terrier.default.properties for bootstrap configuration.\n"
     ]
    }
   ],
   "source": [
    "from tira.third_party_integrations import ir_datasets, ensure_pyterrier_is_loaded, persist_and_normalize_run\n",
    "import pyterrier as pt\n",
    "import pandas as pd\n",
    "\n",
    "ensure_pyterrier_is_loaded()\n",
    "\n",
    "training_dataset_path = 'ir-lab-jena-leipzig-wise-2023/training-20231104-training'\n",
    "validation_dataset_path = 'ir-lab-jena-leipzig-wise-2023/validation-20231104-training'"
   ]
  },
  {
   "cell_type": "markdown",
   "id": "6982fffb",
   "metadata": {},
   "source": [
    "### import previously made BM25 results"
   ]
  },
  {
   "cell_type": "code",
   "execution_count": 2,
   "id": "6f7ba7bf",
   "metadata": {},
   "outputs": [],
   "source": [
    "import os\n",
    "from glob import glob"
   ]
  },
  {
   "cell_type": "code",
   "execution_count": 3,
   "id": "c607be24-80e1-43af-9c73-44599481d6aa",
   "metadata": {},
   "outputs": [],
   "source": [
    "basePath = \"../../milestone3/grid-search/training\"\n",
    "input_files = glob(os.path.join(basePath, '**/*.txt'))\n",
    "\n",
    "test_input = input_files[0]"
   ]
  },
  {
   "cell_type": "code",
   "execution_count": 4,
   "id": "642d7638-ef7e-421a-981c-7c955cb41da4",
   "metadata": {},
   "outputs": [
    {
     "name": "stdout",
     "output_type": "stream",
     "text": [
      "       qid            docno  rank      score                 name\n",
      "0    q0001  doc062200806649     1  17.609471  bm25-b=0.75-k_1=1.2\n",
      "1    q0001  doc062200708788     2  17.589946  bm25-b=0.75-k_1=1.2\n",
      "2    q0001  doc062200210793     3  17.343684  bm25-b=0.75-k_1=1.2\n",
      "3    q0001  doc062201000378     4  17.239007  bm25-b=0.75-k_1=1.2\n",
      "4    q0001  doc062201105278     5  17.053650  bm25-b=0.75-k_1=1.2\n",
      "..     ...              ...   ...        ...                  ...\n",
      "995  q0001  doc062200309291   996   5.945129  bm25-b=0.75-k_1=1.2\n",
      "996  q0001  doc062214005339   997   5.944639  bm25-b=0.75-k_1=1.2\n",
      "997  q0001  doc062200208773   998   5.944639  bm25-b=0.75-k_1=1.2\n",
      "998  q0001  doc062208300136   999   5.939730  bm25-b=0.75-k_1=1.2\n",
      "999  q0001  doc062200111997  1000   5.939730  bm25-b=0.75-k_1=1.2\n",
      "\n",
      "[1000 rows x 5 columns]\n"
     ]
    }
   ],
   "source": [
    "results = pt.io.read_results(test_input)\n",
    "print(results)"
   ]
  },
  {
   "cell_type": "markdown",
   "id": "ec4a1dcc-f3a0-4632-a06a-5d6d4319079d",
   "metadata": {},
   "source": [
    "### create fake other data for testing (later LM)"
   ]
  },
  {
   "cell_type": "code",
   "execution_count": 5,
   "id": "a321547f-dc2e-4855-af92-e7df3bf09889",
   "metadata": {},
   "outputs": [],
   "source": [
    "import random"
   ]
  },
  {
   "cell_type": "code",
   "execution_count": 7,
   "id": "180aff8c-14f9-4f41-9266-353b80b9f9b7",
   "metadata": {},
   "outputs": [],
   "source": [
    "def randomScore(row):\n",
    "    row[\"score\"] = random.random() * 10\n",
    "    return row"
   ]
  },
  {
   "cell_type": "code",
   "execution_count": 8,
   "id": "56d4d189-36c8-43bd-9453-a7a5f9411376",
   "metadata": {},
   "outputs": [
    {
     "name": "stdout",
     "output_type": "stream",
     "text": [
      "       qid            docno  rank     score                 name\n",
      "271  q0001  doc062208704222     1  9.998877  bm25-b=0.75-k_1=1.2\n",
      "676  q0001  doc062200100599     2  9.990608  bm25-b=0.75-k_1=1.2\n",
      "888  q0001  doc062200707616     3  9.989972  bm25-b=0.75-k_1=1.2\n",
      "721  q0001  doc062211402243     4  9.988692  bm25-b=0.75-k_1=1.2\n",
      "992  q0001  doc062203101879     5  9.943263  bm25-b=0.75-k_1=1.2\n",
      "..     ...              ...   ...       ...                  ...\n",
      "769  q0001  doc062201200901   996  0.042836  bm25-b=0.75-k_1=1.2\n",
      "660  q0001  doc062201709441   997  0.025456  bm25-b=0.75-k_1=1.2\n",
      "830  q0001  doc062207603270   998  0.024327  bm25-b=0.75-k_1=1.2\n",
      "818  q0001  doc062203102859   999  0.019441  bm25-b=0.75-k_1=1.2\n",
      "839  q0001  doc062200805484  1000  0.012337  bm25-b=0.75-k_1=1.2\n",
      "\n",
      "[1000 rows x 5 columns]\n"
     ]
    }
   ],
   "source": [
    "results_2 = results.apply(randomScore, axis=1)\n",
    "results_2 = results_2.sort_values(by=[\"score\"],ascending=False)\n",
    "results_2['rank'] = results_2['score'].rank(ascending=False).astype(int)\n",
    "print(results_2)"
   ]
  },
  {
   "cell_type": "markdown",
   "id": "c0f21791-40b2-4558-abac-230013cc5e80",
   "metadata": {},
   "source": [
    "## prepare data for LTR"
   ]
  },
  {
   "cell_type": "code",
   "execution_count": 9,
   "id": "8720be5c-51ed-4a50-a604-855f39b24548",
   "metadata": {},
   "outputs": [
    {
     "name": "stdout",
     "output_type": "stream",
     "text": [
      "       qid            docno  rank      score                 name features\n",
      "0    q0001  doc062200806649     1  17.609471  bm25-b=0.75-k_1=1.2    [862]\n",
      "1    q0001  doc062200708788     2  17.589946  bm25-b=0.75-k_1=1.2    [476]\n",
      "2    q0001  doc062200210793     3  17.343684  bm25-b=0.75-k_1=1.2    [704]\n",
      "3    q0001  doc062201000378     4  17.239007  bm25-b=0.75-k_1=1.2    [183]\n",
      "4    q0001  doc062201105278     5  17.053650  bm25-b=0.75-k_1=1.2    [957]\n",
      "..     ...              ...   ...        ...                  ...      ...\n",
      "995  q0001  doc062200309291   996   5.945129  bm25-b=0.75-k_1=1.2    [186]\n",
      "996  q0001  doc062214005339   997   5.944639  bm25-b=0.75-k_1=1.2    [781]\n",
      "997  q0001  doc062200208773   998   5.944639  bm25-b=0.75-k_1=1.2    [448]\n",
      "998  q0001  doc062208300136   999   5.939730  bm25-b=0.75-k_1=1.2    [595]\n",
      "999  q0001  doc062200111997  1000   5.939730  bm25-b=0.75-k_1=1.2    [900]\n",
      "\n",
      "[1000 rows x 6 columns]\n"
     ]
    }
   ],
   "source": [
    "# add rank of results 2 as feature\n",
    "results['features'] = results['docno'].map(results_2.set_index('docno')['rank']).apply(lambda x: [x])\n",
    "print(results)"
   ]
  },
  {
   "cell_type": "code",
   "execution_count": 10,
   "id": "ee04def8-0c0f-4f44-950c-5f6c65a9b551",
   "metadata": {},
   "outputs": [
    {
     "name": "stdout",
     "output_type": "stream",
     "text": [
      "Transformer()\n"
     ]
    }
   ],
   "source": [
    "pipeline = pt.Transformer.from_df(results)\n",
    "print(pipeline)"
   ]
  },
  {
   "cell_type": "markdown",
   "id": "471e3f8c-45d1-496a-80fb-3bae72b939dc",
   "metadata": {},
   "source": [
    "## LTR"
   ]
  },
  {
   "cell_type": "code",
   "execution_count": 11,
   "id": "0662337d-38cf-4b60-a34b-fffd462432f4",
   "metadata": {},
   "outputs": [
    {
     "name": "stdout",
     "output_type": "stream",
     "text": [
      "Load ir_dataset \"ir-lab-jena-leipzig-wise-2023/training-20231104-training\" from tira.\n",
      "No settings given in /root/.tira/.tira-settings.json. I will use defaults.\n",
      "No settings given in /root/.tira/.tira-settings.json. I will use defaults.\n",
      "Load ir_dataset \"ir-lab-jena-leipzig-wise-2023/validation-20231104-training\" from tira.\n",
      "No settings given in /root/.tira/.tira-settings.json. I will use defaults.\n",
      "No settings given in /root/.tira/.tira-settings.json. I will use defaults.\n"
     ]
    }
   ],
   "source": [
    "training_dataset = ir_datasets.load(training_dataset_path)\n",
    "training_queries = pt.io.read_topics(ir_datasets.topics_file(training_dataset_path), format='trecxml')\n",
    "training_qrels = pd.DataFrame(training_dataset.qrels_iter()).rename(columns={\"query_id\": \"qid\"})\n",
    "\n",
    "validation_dataset = ir_datasets.load(validation_dataset_path)\n",
    "validation_queries = pt.io.read_topics(ir_datasets.topics_file(validation_dataset_path), format='trecxml')\n",
    "validation_qrels = pd.DataFrame(validation_dataset.qrels_iter()).rename(columns={\"query_id\": \"qid\"})"
   ]
  },
  {
   "cell_type": "code",
   "execution_count": 12,
   "id": "80950801-0746-4f97-914a-8d2c2dadb379",
   "metadata": {},
   "outputs": [
    {
     "name": "stdout",
     "output_type": "stream",
     "text": [
      "            qid               query\n",
      "0       q072224      purchase money\n",
      "1       q072226   purchase used car\n",
      "2       q072232     buy gold silver\n",
      "3       q072240          adenovirus\n",
      "4       q072242      water softener\n",
      "..          ...                 ...\n",
      "877  q072229958       video twitter\n",
      "878  q072230046            used car\n",
      "879  q072230066   used electric car\n",
      "880  q072230072      collector cars\n",
      "881  q072230074       electric cars\n",
      "\n",
      "[882 rows x 2 columns]\n"
     ]
    }
   ],
   "source": [
    "print(validation_queries)"
   ]
  },
  {
   "cell_type": "code",
   "execution_count": null,
   "id": "bd92df65-72a5-41bb-a806-6eac81caec49",
   "metadata": {},
   "outputs": [],
   "source": [
    "from sklearn.ensemble import RandomForestRegressor"
   ]
  },
  {
   "cell_type": "code",
   "execution_count": null,
   "id": "134861cd-0fca-4d7b-b23d-b7ee5c833df2",
   "metadata": {},
   "outputs": [],
   "source": [
    "#rf = RandomForestRegressor(n_estimators=400)\n",
    "#rf_pipe = pipeline >> pt.ltr.apply_learned_model(rf)\n",
    "\n",
    "#X = pd.DataFrame(results[\"features\"] + results[\"qid\"])\n",
    "#rf_pipe.fit(queries, qrels)"
   ]
  },
  {
   "cell_type": "markdown",
   "id": "af3e97de-ba0f-4367-8583-8c092f19f8f5",
   "metadata": {},
   "source": [
    "## XBoost"
   ]
  },
  {
   "cell_type": "code",
   "execution_count": 13,
   "id": "b79b6839-1a76-4dc2-94b0-bbded2e7d32a",
   "metadata": {},
   "outputs": [
    {
     "name": "stdout",
     "output_type": "stream",
     "text": [
      "Requirement already satisfied: xgboost in /usr/local/lib/python3.10/dist-packages (2.0.3)\n",
      "Requirement already satisfied: scipy in /usr/local/lib/python3.10/dist-packages (from xgboost) (1.11.3)\n",
      "Requirement already satisfied: numpy in /usr/local/lib/python3.10/dist-packages (from xgboost) (1.26.1)\n",
      "\u001b[33mWARNING: Running pip as the 'root' user can result in broken permissions and conflicting behaviour with the system package manager. It is recommended to use a virtual environment instead: https://pip.pypa.io/warnings/venv\u001b[0m\u001b[33m\n",
      "\u001b[0m"
     ]
    }
   ],
   "source": [
    "!pip3 install xgboost"
   ]
  },
  {
   "cell_type": "code",
   "execution_count": 14,
   "id": "8b255e4c-34e4-4a12-ab0b-4ca37c300dda",
   "metadata": {},
   "outputs": [],
   "source": [
    "import xgboost as xgb\n",
    "lmart_x = xgb.sklearn.XGBRanker(objective='rank:ndcg',\n",
    "      learning_rate=0.1,\n",
    "      gamma=1.0,\n",
    "      min_child_weight=0.1,\n",
    "      max_depth=6,\n",
    "      verbose=2,\n",
    "      random_state=42)"
   ]
  },
  {
   "cell_type": "code",
   "execution_count": null,
   "id": "03b81811-cfda-46f4-8e5f-98430341f5cf",
   "metadata": {},
   "outputs": [
    {
     "name": "stdout",
     "output_type": "stream",
     "text": [
      "No settings given in /root/.tira/.tira-settings.json. I will use defaults.\n"
     ]
    }
   ],
   "source": [
    "def create_index(documents):\n",
    "    indexer = pt.IterDictIndexer(\"/tmp/index\", overwrite=True, meta={'docno': 100, 'text': 20480})\n",
    "    index_ref = indexer.index(({'docno': i.doc_id, 'text': i.text} for i in documents))\n",
    "    return pt.IndexFactory.of(index_ref)\n",
    "index = index = create_index(training_dataset.docs_iter())\n",
    "pipeline = pt.BatchRetrieve(index, wmodel=\"BM25\", , verbose=True)"
   ]
  },
  {
   "cell_type": "code",
   "execution_count": null,
   "id": "165c4f48-58f3-4804-92f2-c753ca8a0463",
   "metadata": {},
   "outputs": [],
   "source": [
    "lmart_x_pipe = pipeline >> pt.ltr.apply_learned_model(lmart_x, form=\"ltr\")\n",
    "lmart_x_pipe.fit(training_queries, training_qrels, validation_queries, validation_qrels)\n",
    "print(lmart_x_pipe)"
   ]
  },
  {
   "cell_type": "code",
   "execution_count": null,
   "id": "91a537ae-c221-4cc6-9906-e863f4fd44ec",
   "metadata": {},
   "outputs": [],
   "source": [
    "results = pt.Experiment(\n",
    "    [bm25, lmart_x_pipe],\n",
    "    test_topics,\n",
    "    test_qrels,\n",
    "    [\"map\"],\n",
    "    names=[\"BM25 Baseline\", \"LambdaMART (xgBoost)\" ]\n",
    ")"
   ]
  },
  {
   "cell_type": "code",
   "execution_count": null,
   "id": "42e1e29f-290f-4df0-9b6e-9be76f404f3c",
   "metadata": {},
   "outputs": [],
   "source": [
    "print(results)"
   ]
  },
  {
   "cell_type": "code",
   "execution_count": null,
   "id": "a44b7638-18dc-4cef-b3c2-f2b80a9d3087",
   "metadata": {},
   "outputs": [],
   "source": []
  },
  {
   "cell_type": "code",
   "execution_count": null,
   "id": "48a47ba9-58d4-4bb2-8296-7ac56588ba9b",
   "metadata": {},
   "outputs": [],
   "source": []
  }
 ],
 "metadata": {
  "kernelspec": {
   "display_name": "Python 3 (ipykernel)",
   "language": "python",
   "name": "python3"
  },
  "language_info": {
   "codemirror_mode": {
    "name": "ipython",
    "version": 3
   },
   "file_extension": ".py",
   "mimetype": "text/x-python",
   "name": "python",
   "nbconvert_exporter": "python",
   "pygments_lexer": "ipython3",
   "version": "3.10.12"
  }
 },
 "nbformat": 4,
 "nbformat_minor": 5
}
