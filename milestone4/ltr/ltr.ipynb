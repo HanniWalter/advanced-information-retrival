{
 "cells": [
  {
   "cell_type": "code",
   "execution_count": 94,
   "id": "a429bf6f-0771-44ae-8d9e-aba1170ce947",
   "metadata": {},
   "outputs": [],
   "source": [
    "from tira.third_party_integrations import ir_datasets, ensure_pyterrier_is_loaded, persist_and_normalize_run\n",
    "import pyterrier as pt\n",
    "import pandas as pd\n",
    "\n",
    "ensure_pyterrier_is_loaded()\n",
    "\n",
    "training_dataset_path = 'ir-lab-jena-leipzig-wise-2023/training-20231104-training'\n",
    "validation_dataset_path = 'ir-lab-jena-leipzig-wise-2023/validation-20231104-training'"
   ]
  },
  {
   "cell_type": "markdown",
   "id": "6982fffb",
   "metadata": {},
   "source": [
    "### import previously made BM25 results"
   ]
  },
  {
   "cell_type": "code",
   "execution_count": 95,
   "id": "6f7ba7bf",
   "metadata": {},
   "outputs": [],
   "source": [
    "import os\n",
    "from glob import glob"
   ]
  },
  {
   "cell_type": "code",
   "execution_count": 96,
   "id": "c607be24-80e1-43af-9c73-44599481d6aa",
   "metadata": {},
   "outputs": [],
   "source": [
    "basePath = \"../../milestone3/grid-search/training\"\n",
    "input_files = glob(os.path.join(basePath, '**/*.txt'))\n",
    "\n",
    "test_input = input_files[0]"
   ]
  },
  {
   "cell_type": "code",
   "execution_count": 136,
   "id": "642d7638-ef7e-421a-981c-7c955cb41da4",
   "metadata": {},
   "outputs": [
    {
     "name": "stdout",
     "output_type": "stream",
     "text": [
      "       qid            docno  rank      score                 name\n",
      "0    q0001  doc062200806649     1  17.609471  bm25-b=0.75-k_1=1.2\n",
      "1    q0001  doc062200708788     2  17.589946  bm25-b=0.75-k_1=1.2\n",
      "2    q0001  doc062200210793     3  17.343684  bm25-b=0.75-k_1=1.2\n",
      "3    q0001  doc062201000378     4  17.239007  bm25-b=0.75-k_1=1.2\n",
      "4    q0001  doc062201105278     5  17.053650  bm25-b=0.75-k_1=1.2\n",
      "..     ...              ...   ...        ...                  ...\n",
      "995  q0001  doc062200309291   996   5.945129  bm25-b=0.75-k_1=1.2\n",
      "996  q0001  doc062214005339   997   5.944639  bm25-b=0.75-k_1=1.2\n",
      "997  q0001  doc062200208773   998   5.944639  bm25-b=0.75-k_1=1.2\n",
      "998  q0001  doc062208300136   999   5.939730  bm25-b=0.75-k_1=1.2\n",
      "999  q0001  doc062200111997  1000   5.939730  bm25-b=0.75-k_1=1.2\n",
      "\n",
      "[1000 rows x 5 columns]\n"
     ]
    }
   ],
   "source": [
    "results = pt.io.read_results(test_input)\n",
    "print(results)"
   ]
  },
  {
   "cell_type": "markdown",
   "id": "ec4a1dcc-f3a0-4632-a06a-5d6d4319079d",
   "metadata": {},
   "source": [
    "### create fake other data for testing (later LM)"
   ]
  },
  {
   "cell_type": "code",
   "execution_count": 98,
   "id": "a321547f-dc2e-4855-af92-e7df3bf09889",
   "metadata": {},
   "outputs": [],
   "source": [
    "import random"
   ]
  },
  {
   "cell_type": "code",
   "execution_count": 100,
   "id": "180aff8c-14f9-4f41-9266-353b80b9f9b7",
   "metadata": {},
   "outputs": [],
   "source": [
    "def randomScore(row):\n",
    "    row[\"score\"] = random.random() * 10\n",
    "    return row"
   ]
  },
  {
   "cell_type": "code",
   "execution_count": 128,
   "id": "56d4d189-36c8-43bd-9453-a7a5f9411376",
   "metadata": {},
   "outputs": [],
   "source": [
    "results_2 = results.apply(randomScore, axis=1)\n",
    "results_2 = results_2.sort_values(by=[\"score\"],ascending=False)\n",
    "results_2['rank'] = results_2['score'].rank(ascending=False).astype(int)"
   ]
  },
  {
   "cell_type": "code",
   "execution_count": 132,
   "id": "099b15a9-b79b-40a9-902f-b1d278b058de",
   "metadata": {},
   "outputs": [
    {
     "name": "stdout",
     "output_type": "stream",
     "text": [
      "0       doc062200112743\n",
      "1       doc062200205250\n",
      "2       doc062200101983\n",
      "3       doc062200204465\n",
      "4       doc062200115614\n",
      "             ...       \n",
      "9651    doc062200205276\n",
      "9652    doc062200107121\n",
      "9653    doc062200204419\n",
      "9654    doc062200103774\n",
      "9655    doc062200110087\n",
      "Name: doc_id, Length: 9656, dtype: object\n"
     ]
    }
   ],
   "source": [
    "test_df = qrels['doc_id'].map(results.set_index('docno')['rank']).apply(lambda x: [x])\n",
    "print(qrels['doc_id'])"
   ]
  },
  {
   "cell_type": "markdown",
   "id": "c0f21791-40b2-4558-abac-230013cc5e80",
   "metadata": {},
   "source": [
    "## prepare data for LTR"
   ]
  },
  {
   "cell_type": "code",
   "execution_count": 112,
   "id": "8720be5c-51ed-4a50-a604-855f39b24548",
   "metadata": {},
   "outputs": [
    {
     "name": "stdout",
     "output_type": "stream",
     "text": [
      "       qid            docno  rank      score                 name features\n",
      "0    q0001  doc062200806649     1  17.609471  bm25-b=0.75-k_1=1.2    [592]\n",
      "1    q0001  doc062200708788     2  17.589946  bm25-b=0.75-k_1=1.2    [127]\n",
      "2    q0001  doc062200210793     3  17.343684  bm25-b=0.75-k_1=1.2    [996]\n",
      "3    q0001  doc062201000378     4  17.239007  bm25-b=0.75-k_1=1.2    [836]\n",
      "4    q0001  doc062201105278     5  17.053650  bm25-b=0.75-k_1=1.2     [84]\n",
      "..     ...              ...   ...        ...                  ...      ...\n",
      "995  q0001  doc062200309291   996   5.945129  bm25-b=0.75-k_1=1.2     [71]\n",
      "996  q0001  doc062214005339   997   5.944639  bm25-b=0.75-k_1=1.2    [686]\n",
      "997  q0001  doc062200208773   998   5.944639  bm25-b=0.75-k_1=1.2    [872]\n",
      "998  q0001  doc062208300136   999   5.939730  bm25-b=0.75-k_1=1.2    [309]\n",
      "999  q0001  doc062200111997  1000   5.939730  bm25-b=0.75-k_1=1.2    [374]\n",
      "\n",
      "[1000 rows x 6 columns]\n"
     ]
    }
   ],
   "source": [
    "# add rank of results 2 as feature\n",
    "results['features'] = results['docno'].map(results_2.set_index('docno')['rank']).apply(lambda x: [x])\n",
    "print(results)"
   ]
  },
  {
   "cell_type": "code",
   "execution_count": null,
   "id": "ee04def8-0c0f-4f44-950c-5f6c65a9b551",
   "metadata": {},
   "outputs": [],
   "source": [
    "pipeline = pt.Transformer.from_df(results)\n",
    "print(pipeline)"
   ]
  },
  {
   "cell_type": "markdown",
   "id": "471e3f8c-45d1-496a-80fb-3bae72b939dc",
   "metadata": {},
   "source": [
    "## LTR"
   ]
  },
  {
   "cell_type": "code",
   "execution_count": 138,
   "id": "0662337d-38cf-4b60-a34b-fffd462432f4",
   "metadata": {},
   "outputs": [
    {
     "name": "stdout",
     "output_type": "stream",
     "text": [
      "Load ir_dataset \"ir-lab-jena-leipzig-wise-2023/training-20231104-training\" from tira.\n",
      "No settings given in /root/.tira/.tira-settings.json. I will use defaults.\n",
      "No settings given in /root/.tira/.tira-settings.json. I will use defaults.\n",
      "Load ir_dataset \"ir-lab-jena-leipzig-wise-2023/validation-20231104-training\" from tira.\n",
      "No settings given in /root/.tira/.tira-settings.json. I will use defaults.\n",
      "No settings given in /root/.tira/.tira-settings.json. I will use defaults.\n"
     ]
    }
   ],
   "source": [
    "training_dataset = ir_datasets.load(training_dataset_path)\n",
    "training_queries = pt.io.read_topics(ir_datasets.topics_file(training_dataset_path), format='trecxml')\n",
    "training_qrels = pd.DataFrame(training_dataset.qrels_iter()).rename(columns={\"query_id\": \"qid\"})\n",
    "\n",
    "validation_dataset = ir_datasets.load(validation_dataset_path)\n",
    "validation_queries = pt.io.read_topics(ir_datasets.topics_file(validation_dataset_path), format='trecxml')\n",
    "validation_qrels = pd.DataFrame(validation_dataset.qrels_iter()).rename(columns={\"query_id\": \"qid\"})"
   ]
  },
  {
   "cell_type": "code",
   "execution_count": 143,
   "id": "35d0d7fc-1b78-4a14-9522-090aabce67d1",
   "metadata": {},
   "outputs": [],
   "source": [
    "results.to_csv('output.txt', index=False, header=False, sep='\\n')"
   ]
  },
  {
   "cell_type": "code",
   "execution_count": 92,
   "id": "80950801-0746-4f97-914a-8d2c2dadb379",
   "metadata": {},
   "outputs": [
    {
     "name": "stdout",
     "output_type": "stream",
     "text": [
      "            qid               query\n",
      "0       q072224      purchase money\n",
      "1       q072226   purchase used car\n",
      "2       q072232     buy gold silver\n",
      "3       q072240          adenovirus\n",
      "4       q072242      water softener\n",
      "..          ...                 ...\n",
      "877  q072229958       video twitter\n",
      "878  q072230046            used car\n",
      "879  q072230066   used electric car\n",
      "880  q072230072      collector cars\n",
      "881  q072230074       electric cars\n",
      "\n",
      "[882 rows x 2 columns]\n"
     ]
    }
   ],
   "source": [
    "print(validation_queries)"
   ]
  },
  {
   "cell_type": "code",
   "execution_count": 93,
   "id": "bd92df65-72a5-41bb-a806-6eac81caec49",
   "metadata": {},
   "outputs": [],
   "source": [
    "from sklearn.ensemble import RandomForestRegressor"
   ]
  },
  {
   "cell_type": "code",
   "execution_count": null,
   "id": "134861cd-0fca-4d7b-b23d-b7ee5c833df2",
   "metadata": {},
   "outputs": [],
   "source": [
    "#rf = RandomForestRegressor(n_estimators=400)\n",
    "#rf_pipe = pipeline >> pt.ltr.apply_learned_model(rf)\n",
    "\n",
    "#X = pd.DataFrame(results[\"features\"] + results[\"qid\"])\n",
    "##rf_pipe.fit(queries, qrels)"
   ]
  },
  {
   "cell_type": "code",
   "execution_count": 117,
   "id": "48a47ba9-58d4-4bb2-8296-7ac56588ba9b",
   "metadata": {},
   "outputs": [],
   "source": [
    "qrels.rename(columns={'docno': 'doc_id'}, inplace=True)"
   ]
  },
  {
   "cell_type": "code",
   "execution_count": 126,
   "id": "cb851fe9-29a2-4d7e-9bc7-2dd7f5849afa",
   "metadata": {},
   "outputs": [
    {
     "name": "stdout",
     "output_type": "stream",
     "text": [
      "       qid           doc_id  rank      score                 name features\n",
      "0    q0001  doc062200806649     1  17.609471  bm25-b=0.75-k_1=1.2    [592]\n",
      "1    q0001  doc062200708788     2  17.589946  bm25-b=0.75-k_1=1.2    [127]\n",
      "2    q0001  doc062200210793     3  17.343684  bm25-b=0.75-k_1=1.2    [996]\n",
      "3    q0001  doc062201000378     4  17.239007  bm25-b=0.75-k_1=1.2    [836]\n",
      "4    q0001  doc062201105278     5  17.053650  bm25-b=0.75-k_1=1.2     [84]\n",
      "..     ...              ...   ...        ...                  ...      ...\n",
      "995  q0001  doc062200309291   996   5.945129  bm25-b=0.75-k_1=1.2     [71]\n",
      "996  q0001  doc062214005339   997   5.944639  bm25-b=0.75-k_1=1.2    [686]\n",
      "997  q0001  doc062200208773   998   5.944639  bm25-b=0.75-k_1=1.2    [872]\n",
      "998  q0001  doc062208300136   999   5.939730  bm25-b=0.75-k_1=1.2    [309]\n",
      "999  q0001  doc062200111997  1000   5.939730  bm25-b=0.75-k_1=1.2    [374]\n",
      "\n",
      "[1000 rows x 6 columns]\n"
     ]
    }
   ],
   "source": [
    "print(results)"
   ]
  },
  {
   "cell_type": "code",
   "execution_count": 173,
   "id": "4f79c2e4-9ab5-4955-85f1-763d67923a9b",
   "metadata": {},
   "outputs": [],
   "source": [
    "import numpy as np\n",
    "from sklearn.model_selection import train_test_split\n",
    "# Generate a sample feature DataFrame with random values\n",
    "np.random.seed(42)  # for reproducibility\n",
    "num_samples = len(qrels)\n",
    "num_features = 5  # Adjust this based on your actual features\n",
    "\n",
    "\n",
    "your_feature_dataframe = pd.DataFrame({\n",
    "    'qid': np.random.choice(queries['qid'], num_samples),\n",
    "    'feature1': np.random.rand(num_samples),\n",
    "    'feature2': np.random.rand(num_samples),\n",
    "})"
   ]
  },
  {
   "cell_type": "code",
   "execution_count": 165,
   "id": "13b85269-8dc2-4304-bd7a-09f0779b1926",
   "metadata": {},
   "outputs": [
    {
     "name": "stdout",
     "output_type": "stream",
     "text": [
      "               qid           doc_id  relevance iteration  feature1  feature2\n",
      "0        q06223196  doc062200112743          0         0  0.453262  0.104804\n",
      "1        q06223196  doc062200112743          0         0  0.105514  0.303605\n",
      "2        q06223196  doc062200112743          0         0  0.693210  0.573911\n",
      "3        q06223196  doc062200112743          0         0  0.270058  0.035503\n",
      "4        q06223196  doc062200112743          0         0  0.932846  0.274745\n",
      "...            ...              ...        ...       ...       ...       ...\n",
      "138696  q062225197  doc062200110087          0         0  0.104939  0.328535\n",
      "138697  q062225197  doc062200110087          0         0  0.749290  0.992538\n",
      "138698  q062225197  doc062200110087          0         0  0.495472  0.428395\n",
      "138699  q062225197  doc062200110087          0         0  0.976587  0.859999\n",
      "138700  q062225197  doc062200110087          0         0  0.488210  0.890811\n",
      "\n",
      "[138701 rows x 6 columns]\n"
     ]
    }
   ],
   "source": [
    "df = pd.merge(qrels, your_feature_dataframe, on=['qid'])\n",
    "print(df)"
   ]
  },
  {
   "cell_type": "code",
   "execution_count": 178,
   "id": "5f568a42-668f-4dbb-b80a-a315de35c199",
   "metadata": {},
   "outputs": [],
   "source": [
    "# Define features and labels\n",
    "features = df.drop(['qid', 'doc_id', 'relevance'], axis=1)\n",
    "labels = df['relevance']\n",
    "X_train, X_val, Y_train, Y_val = train_test_split(features, labels, test_size=0.2, random_state=42)"
   ]
  },
  {
   "cell_type": "code",
   "execution_count": 180,
   "id": "043f2f94-5bb2-4f06-a798-089f154f5e63",
   "metadata": {},
   "outputs": [
    {
     "data": {
      "text/html": [
       "<style>#sk-container-id-1 {color: black;}#sk-container-id-1 pre{padding: 0;}#sk-container-id-1 div.sk-toggleable {background-color: white;}#sk-container-id-1 label.sk-toggleable__label {cursor: pointer;display: block;width: 100%;margin-bottom: 0;padding: 0.3em;box-sizing: border-box;text-align: center;}#sk-container-id-1 label.sk-toggleable__label-arrow:before {content: \"▸\";float: left;margin-right: 0.25em;color: #696969;}#sk-container-id-1 label.sk-toggleable__label-arrow:hover:before {color: black;}#sk-container-id-1 div.sk-estimator:hover label.sk-toggleable__label-arrow:before {color: black;}#sk-container-id-1 div.sk-toggleable__content {max-height: 0;max-width: 0;overflow: hidden;text-align: left;background-color: #f0f8ff;}#sk-container-id-1 div.sk-toggleable__content pre {margin: 0.2em;color: black;border-radius: 0.25em;background-color: #f0f8ff;}#sk-container-id-1 input.sk-toggleable__control:checked~div.sk-toggleable__content {max-height: 200px;max-width: 100%;overflow: auto;}#sk-container-id-1 input.sk-toggleable__control:checked~label.sk-toggleable__label-arrow:before {content: \"▾\";}#sk-container-id-1 div.sk-estimator input.sk-toggleable__control:checked~label.sk-toggleable__label {background-color: #d4ebff;}#sk-container-id-1 div.sk-label input.sk-toggleable__control:checked~label.sk-toggleable__label {background-color: #d4ebff;}#sk-container-id-1 input.sk-hidden--visually {border: 0;clip: rect(1px 1px 1px 1px);clip: rect(1px, 1px, 1px, 1px);height: 1px;margin: -1px;overflow: hidden;padding: 0;position: absolute;width: 1px;}#sk-container-id-1 div.sk-estimator {font-family: monospace;background-color: #f0f8ff;border: 1px dotted black;border-radius: 0.25em;box-sizing: border-box;margin-bottom: 0.5em;}#sk-container-id-1 div.sk-estimator:hover {background-color: #d4ebff;}#sk-container-id-1 div.sk-parallel-item::after {content: \"\";width: 100%;border-bottom: 1px solid gray;flex-grow: 1;}#sk-container-id-1 div.sk-label:hover label.sk-toggleable__label {background-color: #d4ebff;}#sk-container-id-1 div.sk-serial::before {content: \"\";position: absolute;border-left: 1px solid gray;box-sizing: border-box;top: 0;bottom: 0;left: 50%;z-index: 0;}#sk-container-id-1 div.sk-serial {display: flex;flex-direction: column;align-items: center;background-color: white;padding-right: 0.2em;padding-left: 0.2em;position: relative;}#sk-container-id-1 div.sk-item {position: relative;z-index: 1;}#sk-container-id-1 div.sk-parallel {display: flex;align-items: stretch;justify-content: center;background-color: white;position: relative;}#sk-container-id-1 div.sk-item::before, #sk-container-id-1 div.sk-parallel-item::before {content: \"\";position: absolute;border-left: 1px solid gray;box-sizing: border-box;top: 0;bottom: 0;left: 50%;z-index: -1;}#sk-container-id-1 div.sk-parallel-item {display: flex;flex-direction: column;z-index: 1;position: relative;background-color: white;}#sk-container-id-1 div.sk-parallel-item:first-child::after {align-self: flex-end;width: 50%;}#sk-container-id-1 div.sk-parallel-item:last-child::after {align-self: flex-start;width: 50%;}#sk-container-id-1 div.sk-parallel-item:only-child::after {width: 0;}#sk-container-id-1 div.sk-dashed-wrapped {border: 1px dashed gray;margin: 0 0.4em 0.5em 0.4em;box-sizing: border-box;padding-bottom: 0.4em;background-color: white;}#sk-container-id-1 div.sk-label label {font-family: monospace;font-weight: bold;display: inline-block;line-height: 1.2em;}#sk-container-id-1 div.sk-label-container {text-align: center;}#sk-container-id-1 div.sk-container {/* jupyter's `normalize.less` sets `[hidden] { display: none; }` but bootstrap.min.css set `[hidden] { display: none !important; }` so we also need the `!important` here to be able to override the default hidden behavior on the sphinx rendered scikit-learn.org. See: https://github.com/scikit-learn/scikit-learn/issues/21755 */display: inline-block !important;position: relative;}#sk-container-id-1 div.sk-text-repr-fallback {display: none;}</style><div id=\"sk-container-id-1\" class=\"sk-top-container\"><div class=\"sk-text-repr-fallback\"><pre>RandomForestRegressor()</pre><b>In a Jupyter environment, please rerun this cell to show the HTML representation or trust the notebook. <br />On GitHub, the HTML representation is unable to render, please try loading this page with nbviewer.org.</b></div><div class=\"sk-container\" hidden><div class=\"sk-item\"><div class=\"sk-estimator sk-toggleable\"><input class=\"sk-toggleable__control sk-hidden--visually\" id=\"sk-estimator-id-1\" type=\"checkbox\" checked><label for=\"sk-estimator-id-1\" class=\"sk-toggleable__label sk-toggleable__label-arrow\">RandomForestRegressor</label><div class=\"sk-toggleable__content\"><pre>RandomForestRegressor()</pre></div></div></div></div></div>"
      ],
      "text/plain": [
       "RandomForestRegressor()"
      ]
     },
     "execution_count": 180,
     "metadata": {},
     "output_type": "execute_result"
    }
   ],
   "source": [
    "rf_model = RandomForestRegressor()\n",
    "rf_model.fit(X_train, Y_train)"
   ]
  },
  {
   "cell_type": "code",
   "execution_count": 181,
   "id": "771fb545-5e60-41c9-9c5c-a9f48674781e",
   "metadata": {},
   "outputs": [],
   "source": [
    "val_predictions = rf_model.predict(X_val)"
   ]
  },
  {
   "cell_type": "code",
   "execution_count": null,
   "id": "8010cecd-043c-4926-9b2d-682a460a17f9",
   "metadata": {},
   "outputs": [],
   "source": []
  }
 ],
 "metadata": {
  "kernelspec": {
   "display_name": "Python 3 (ipykernel)",
   "language": "python",
   "name": "python3"
  },
  "language_info": {
   "codemirror_mode": {
    "name": "ipython",
    "version": 3
   },
   "file_extension": ".py",
   "mimetype": "text/x-python",
   "name": "python",
   "nbconvert_exporter": "python",
   "pygments_lexer": "ipython3",
   "version": "3.10.12"
  }
 },
 "nbformat": 4,
 "nbformat_minor": 5
}
