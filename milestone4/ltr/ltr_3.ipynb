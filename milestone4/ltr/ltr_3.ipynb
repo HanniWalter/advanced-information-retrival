{
 "cells": [
  {
   "cell_type": "code",
   "execution_count": 2,
   "id": "a429bf6f-0771-44ae-8d9e-aba1170ce947",
   "metadata": {},
   "outputs": [
    {
     "name": "stdout",
     "output_type": "stream",
     "text": [
      "Start PyTerrier with version=5.7, helper_version=0.0.7, no_download=True\n"
     ]
    },
    {
     "name": "stderr",
     "output_type": "stream",
     "text": [
      "PyTerrier 0.9.2 has loaded Terrier 5.7 (built by craigm on 2022-11-10 18:30) and terrier-helper 0.0.7\n",
      "\n",
      "No etc/terrier.properties, using terrier.default.properties for bootstrap configuration.\n"
     ]
    }
   ],
   "source": [
    "from tira.third_party_integrations import ir_datasets, ensure_pyterrier_is_loaded, persist_and_normalize_run\n",
    "import pyterrier as pt\n",
    "import pandas as pd\n",
    "\n",
    "ensure_pyterrier_is_loaded()\n",
    "\n",
    "training_dataset_path = 'ir-lab-jena-leipzig-wise-2023/training-20231104-training'\n",
    "validation_dataset_path = 'ir-lab-jena-leipzig-wise-2023/validation-20231104-training'"
   ]
  },
  {
   "cell_type": "markdown",
   "id": "6982fffb",
   "metadata": {},
   "source": [
    "### import previously made BM25 results"
   ]
  },
  {
   "cell_type": "code",
   "execution_count": 3,
   "id": "6f7ba7bf",
   "metadata": {},
   "outputs": [],
   "source": [
    "import os\n",
    "from glob import glob"
   ]
  },
  {
   "cell_type": "code",
   "execution_count": 4,
   "id": "c607be24-80e1-43af-9c73-44599481d6aa",
   "metadata": {},
   "outputs": [
    {
     "name": "stdout",
     "output_type": "stream",
     "text": [
      "../../grid-search/training/bm25-b=0.75-k_1=1.2/run.txt\n"
     ]
    }
   ],
   "source": [
    "basePath = \"../../grid-search/training\"\n",
    "input_files = glob(os.path.join(basePath, '**/*.txt'))\n",
    "\n",
    "test_input = input_files[0]\n",
    "print(test_input)"
   ]
  },
  {
   "cell_type": "code",
   "execution_count": 26,
   "id": "642d7638-ef7e-421a-981c-7c955cb41da4",
   "metadata": {},
   "outputs": [
    {
     "name": "stdout",
     "output_type": "stream",
     "text": [
      "               qid           doc_id  rank      score                 name\n",
      "0       q062210081  doc062200602177     1  14.266406  bm25-b=0.75-k_1=1.2\n",
      "1       q062210081  doc062200206592     2  14.123982  bm25-b=0.75-k_1=1.2\n",
      "2       q062210081  doc062210912628     3  14.037971  bm25-b=0.75-k_1=1.2\n",
      "3       q062210081  doc062200201629     4  13.842112  bm25-b=0.75-k_1=1.2\n",
      "4       q062210081  doc062200304990     5  13.688794  bm25-b=0.75-k_1=1.2\n",
      "...            ...              ...   ...        ...                  ...\n",
      "625518   q06229908  doc062207505063   996   4.631728  bm25-b=0.75-k_1=1.2\n",
      "625519   q06229908  doc062200201995   997   4.628934  bm25-b=0.75-k_1=1.2\n",
      "625520   q06229908  doc062200204993   998   4.627846  bm25-b=0.75-k_1=1.2\n",
      "625521   q06229908  doc062202102915   999   4.627371  bm25-b=0.75-k_1=1.2\n",
      "625522   q06229908  doc062200500656  1000   4.626296  bm25-b=0.75-k_1=1.2\n",
      "\n",
      "[625523 rows x 5 columns]\n"
     ]
    }
   ],
   "source": [
    "bm25_results = pt.io.read_results(test_input).rename(columns={\"docno\": \"doc_id\"})\n",
    "print(bm25_results)"
   ]
  },
  {
   "cell_type": "code",
   "execution_count": 6,
   "id": "e9f7db92-0931-4efa-9046-5e5e69f082f7",
   "metadata": {},
   "outputs": [],
   "source": [
    "import random\n",
    "def randomScore(row):\n",
    "    row[\"score\"] = random.random() * 10\n",
    "    return row"
   ]
  },
  {
   "cell_type": "markdown",
   "id": "c0f21791-40b2-4558-abac-230013cc5e80",
   "metadata": {},
   "source": [
    "## prepare data for LTR"
   ]
  },
  {
   "cell_type": "code",
   "execution_count": 7,
   "id": "8720be5c-51ed-4a50-a604-855f39b24548",
   "metadata": {},
   "outputs": [
    {
     "name": "stdout",
     "output_type": "stream",
     "text": [
      "Load ir_dataset \"ir-lab-jena-leipzig-wise-2023/training-20231104-training\" from tira.\n",
      "No settings given in /root/.tira/.tira-settings.json. I will use defaults.\n",
      "No settings given in /root/.tira/.tira-settings.json. I will use defaults.\n",
      "Load ir_dataset \"ir-lab-jena-leipzig-wise-2023/validation-20231104-training\" from tira.\n",
      "No settings given in /root/.tira/.tira-settings.json. I will use defaults.\n",
      "No settings given in /root/.tira/.tira-settings.json. I will use defaults.\n",
      "            qid                       query\n",
      "0     q06223196                 car shelter\n",
      "1       q062228                     airport\n",
      "2       q062287        antivirus comparison\n",
      "3     q06223261              free antivirus\n",
      "4       q062291            orange antivirus\n",
      "..          ...                         ...\n",
      "667  q062224914             tax garden shed\n",
      "668  q062224961              land of france\n",
      "669  q062225030   find my training pole job\n",
      "670  q062225194                     gpl car\n",
      "671  q062225197                cheapest car\n",
      "\n",
      "[672 rows x 2 columns]\n"
     ]
    }
   ],
   "source": [
    "training_dataset = ir_datasets.load(training_dataset_path)\n",
    "training_queries = pt.io.read_topics(ir_datasets.topics_file(training_dataset_path), format='trecxml')\n",
    "training_qrels = pd.DataFrame(training_dataset.qrels_iter()).rename(columns={\"query_id\": \"qid\"})\n",
    "\n",
    "validation_dataset = ir_datasets.load(validation_dataset_path)\n",
    "validation_queries = pt.io.read_topics(ir_datasets.topics_file(validation_dataset_path), format='trecxml')\n",
    "validation_qrels = pd.DataFrame(validation_dataset.qrels_iter()).rename(columns={\"query_id\": \"qid\"})\n",
    "\n",
    "print(training_queries)"
   ]
  },
  {
   "cell_type": "code",
   "execution_count": 9,
   "id": "d5660bfd-9a9d-4724-a08e-dab616a9fd8c",
   "metadata": {},
   "outputs": [
    {
     "name": "stdout",
     "output_type": "stream",
     "text": [
      "             qid           doc_id  rank      score                 name  \\\n",
      "0     q062210081  doc062200201629     4  13.842112  bm25-b=0.75-k_1=1.2   \n",
      "1     q062210081  doc062200207334    15  13.405335  bm25-b=0.75-k_1=1.2   \n",
      "2     q062210081  doc062200108490    22  13.163220  bm25-b=0.75-k_1=1.2   \n",
      "3     q062210081  doc062200100242    32  12.994303  bm25-b=0.75-k_1=1.2   \n",
      "4     q062210081  doc062200210944    43  12.814115  bm25-b=0.75-k_1=1.2   \n",
      "...          ...              ...   ...        ...                  ...   \n",
      "7720    q0622984  doc062200101503   246   7.926566  bm25-b=0.75-k_1=1.2   \n",
      "7721    q0622984  doc062200203958   312   7.010942  bm25-b=0.75-k_1=1.2   \n",
      "7722   q06229908  doc062200108116   522   5.032561  bm25-b=0.75-k_1=1.2   \n",
      "7723   q06229908  doc062200105658   744   4.842786  bm25-b=0.75-k_1=1.2   \n",
      "7724   q06229908  doc062200115252   799   4.799547  bm25-b=0.75-k_1=1.2   \n",
      "\n",
      "      relevance iteration  \n",
      "0             0         0  \n",
      "1             0         0  \n",
      "2             0         0  \n",
      "3             0         0  \n",
      "4             0         0  \n",
      "...         ...       ...  \n",
      "7720          0         0  \n",
      "7721          0         0  \n",
      "7722          0         0  \n",
      "7723          0         0  \n",
      "7724          1         0  \n",
      "\n",
      "[7725 rows x 7 columns]\n",
      "             qid           doc_id  rank      score                 name  \\\n",
      "0     q062210081  doc062200201629     4  13.842112  bm25-b=0.75-k_1=1.2   \n",
      "1     q062210081  doc062200207334    15  13.405335  bm25-b=0.75-k_1=1.2   \n",
      "2     q062210081  doc062200108490    22  13.163220  bm25-b=0.75-k_1=1.2   \n",
      "3     q062210081  doc062200100242    32  12.994303  bm25-b=0.75-k_1=1.2   \n",
      "4     q062210081  doc062200210944    43  12.814115  bm25-b=0.75-k_1=1.2   \n",
      "...          ...              ...   ...        ...                  ...   \n",
      "7720    q0622984  doc062200101503   246   7.926566  bm25-b=0.75-k_1=1.2   \n",
      "7721    q0622984  doc062200203958   312   7.010942  bm25-b=0.75-k_1=1.2   \n",
      "7722   q06229908  doc062200108116   522   5.032561  bm25-b=0.75-k_1=1.2   \n",
      "7723   q06229908  doc062200105658   744   4.842786  bm25-b=0.75-k_1=1.2   \n",
      "7724   q06229908  doc062200115252   799   4.799547  bm25-b=0.75-k_1=1.2   \n",
      "\n",
      "      relevance iteration                    query  \n",
      "0             0         0   consumption water home  \n",
      "1             0         0   consumption water home  \n",
      "2             0         0   consumption water home  \n",
      "3             0         0   consumption water home  \n",
      "4             0         0   consumption water home  \n",
      "...         ...       ...                      ...  \n",
      "7720          0         0      seasonal employment  \n",
      "7721          0         0      seasonal employment  \n",
      "7722          0         0          knives for sale  \n",
      "7723          0         0          knives for sale  \n",
      "7724          1         0          knives for sale  \n",
      "\n",
      "[7725 rows x 8 columns]\n"
     ]
    }
   ],
   "source": [
    "filtered_qrels = pd.merge(bm25_results, training_qrels, on=['qid', 'doc_id'])\n",
    "print(filtered_qrels)\n",
    "filtered_qrels = pd.merge(filtered_qrels, training_queries, on=['qid'])\n",
    "print(filtered_qrels)"
   ]
  },
  {
   "cell_type": "code",
   "execution_count": 27,
   "id": "4f73f446-79d1-497b-84da-137b59099e9e",
   "metadata": {},
   "outputs": [],
   "source": [
    "lm_results = filtered_qrels.apply(randomScore, axis=1)\n",
    "lm_results = lm_results.sort_values(by=[\"score\"],ascending=False)\n",
    "lm_results['rank'] = lm_results['score'].rank(ascending=False).astype(int)"
   ]
  },
  {
   "cell_type": "code",
   "execution_count": 11,
   "id": "3bd3bfae-70d3-49e5-b5df-841c570057d7",
   "metadata": {},
   "outputs": [
    {
     "name": "stdout",
     "output_type": "stream",
     "text": [
      "[0 0 0 ... 0 0 1]\n"
     ]
    }
   ],
   "source": [
    "relevance_labels = filtered_qrels['relevance'].values\n",
    "print(relevance_labels)"
   ]
  },
  {
   "cell_type": "code",
   "execution_count": 12,
   "id": "98d53f89-8032-4c04-9582-1f57d1d9faaa",
   "metadata": {},
   "outputs": [],
   "source": [
    "topicMap = training_queries['query'].values\n",
    "\n",
    "def mapTopic(row):\n",
    "    row['topic'] = topicMap.tolist().index(row['query'])\n",
    "    return row"
   ]
  },
  {
   "cell_type": "code",
   "execution_count": 13,
   "id": "6d5c293b-d1f8-4c8e-b084-d022cceb9b0d",
   "metadata": {},
   "outputs": [
    {
     "name": "stdout",
     "output_type": "stream",
     "text": [
      "             qid           doc_id  rank_x    score_x               name_x  \\\n",
      "0     q062210081  doc062200201629       4  13.842112  bm25-b=0.75-k_1=1.2   \n",
      "1     q062210081  doc062200207334      15  13.405335  bm25-b=0.75-k_1=1.2   \n",
      "2     q062210081  doc062200108490      22  13.163220  bm25-b=0.75-k_1=1.2   \n",
      "3     q062210081  doc062200100242      32  12.994303  bm25-b=0.75-k_1=1.2   \n",
      "4     q062210081  doc062200210944      43  12.814115  bm25-b=0.75-k_1=1.2   \n",
      "...          ...              ...     ...        ...                  ...   \n",
      "7720    q0622984  doc062200101503     246   7.926566  bm25-b=0.75-k_1=1.2   \n",
      "7721    q0622984  doc062200203958     312   7.010942  bm25-b=0.75-k_1=1.2   \n",
      "7722   q06229908  doc062200108116     522   5.032561  bm25-b=0.75-k_1=1.2   \n",
      "7723   q06229908  doc062200105658     744   4.842786  bm25-b=0.75-k_1=1.2   \n",
      "7724   q06229908  doc062200115252     799   4.799547  bm25-b=0.75-k_1=1.2   \n",
      "\n",
      "      rank_y   score_y               name_y  relevance iteration  \\\n",
      "0       5941  2.285886  bm25-b=0.75-k_1=1.2          0         0   \n",
      "1       3541  5.409608  bm25-b=0.75-k_1=1.2          0         0   \n",
      "2       4910  3.608476  bm25-b=0.75-k_1=1.2          0         0   \n",
      "3       1261  8.331443  bm25-b=0.75-k_1=1.2          0         0   \n",
      "4       2201  7.103880  bm25-b=0.75-k_1=1.2          0         0   \n",
      "...      ...       ...                  ...        ...       ...   \n",
      "7720     454  9.397171  bm25-b=0.75-k_1=1.2          0         0   \n",
      "7721    6089  2.071623  bm25-b=0.75-k_1=1.2          0         0   \n",
      "7722    4530  4.118868  bm25-b=0.75-k_1=1.2          0         0   \n",
      "7723    4365  4.330898  bm25-b=0.75-k_1=1.2          0         0   \n",
      "7724    4046  4.763303  bm25-b=0.75-k_1=1.2          1         0   \n",
      "\n",
      "                        query  topic  \n",
      "0      consumption water home    310  \n",
      "1      consumption water home    310  \n",
      "2      consumption water home    310  \n",
      "3      consumption water home    310  \n",
      "4      consumption water home    310  \n",
      "...                       ...    ...  \n",
      "7720      seasonal employment     37  \n",
      "7721      seasonal employment     37  \n",
      "7722          knives for sale    308  \n",
      "7723          knives for sale    308  \n",
      "7724          knives for sale    308  \n",
      "\n",
      "[7725 rows x 12 columns]\n"
     ]
    }
   ],
   "source": [
    "merged_results = pd.merge(bm25_results, lm_results, on=['qid', 'doc_id'])\n",
    "merged_results = merged_results.apply(mapTopic, axis=1)\n",
    "print(merged_results)"
   ]
  },
  {
   "cell_type": "code",
   "execution_count": 14,
   "id": "e2731067-8ee4-4b9d-a22f-e2c4147ba369",
   "metadata": {},
   "outputs": [
    {
     "name": "stdout",
     "output_type": "stream",
     "text": [
      "[[13.84211188  2.28588558]\n",
      " [13.40533509  5.40960753]\n",
      " [13.16321991  3.60847565]\n",
      " ...\n",
      " [ 5.03256119  4.11886811]\n",
      " [ 4.84278614  4.33089842]\n",
      " [ 4.79954723  4.7633034 ]]\n"
     ]
    }
   ],
   "source": [
    "features = merged_results[['score_x', 'score_y']].values\n",
    "print(features)"
   ]
  },
  {
   "cell_type": "raw",
   "id": "52771b98-028e-40d3-a8d7-ff28b4f0d52d",
   "metadata": {},
   "source": [
    "## LTR"
   ]
  },
  {
   "cell_type": "code",
   "execution_count": 15,
   "id": "fcb13e67-3a07-4752-8c83-ec25607beef6",
   "metadata": {},
   "outputs": [],
   "source": [
    "from sklearn.linear_model import LinearRegression"
   ]
  },
  {
   "cell_type": "code",
   "execution_count": 16,
   "id": "8010cecd-043c-4926-9b2d-682a460a17f9",
   "metadata": {},
   "outputs": [
    {
     "data": {
      "text/html": [
       "<style>#sk-container-id-1 {color: black;}#sk-container-id-1 pre{padding: 0;}#sk-container-id-1 div.sk-toggleable {background-color: white;}#sk-container-id-1 label.sk-toggleable__label {cursor: pointer;display: block;width: 100%;margin-bottom: 0;padding: 0.3em;box-sizing: border-box;text-align: center;}#sk-container-id-1 label.sk-toggleable__label-arrow:before {content: \"▸\";float: left;margin-right: 0.25em;color: #696969;}#sk-container-id-1 label.sk-toggleable__label-arrow:hover:before {color: black;}#sk-container-id-1 div.sk-estimator:hover label.sk-toggleable__label-arrow:before {color: black;}#sk-container-id-1 div.sk-toggleable__content {max-height: 0;max-width: 0;overflow: hidden;text-align: left;background-color: #f0f8ff;}#sk-container-id-1 div.sk-toggleable__content pre {margin: 0.2em;color: black;border-radius: 0.25em;background-color: #f0f8ff;}#sk-container-id-1 input.sk-toggleable__control:checked~div.sk-toggleable__content {max-height: 200px;max-width: 100%;overflow: auto;}#sk-container-id-1 input.sk-toggleable__control:checked~label.sk-toggleable__label-arrow:before {content: \"▾\";}#sk-container-id-1 div.sk-estimator input.sk-toggleable__control:checked~label.sk-toggleable__label {background-color: #d4ebff;}#sk-container-id-1 div.sk-label input.sk-toggleable__control:checked~label.sk-toggleable__label {background-color: #d4ebff;}#sk-container-id-1 input.sk-hidden--visually {border: 0;clip: rect(1px 1px 1px 1px);clip: rect(1px, 1px, 1px, 1px);height: 1px;margin: -1px;overflow: hidden;padding: 0;position: absolute;width: 1px;}#sk-container-id-1 div.sk-estimator {font-family: monospace;background-color: #f0f8ff;border: 1px dotted black;border-radius: 0.25em;box-sizing: border-box;margin-bottom: 0.5em;}#sk-container-id-1 div.sk-estimator:hover {background-color: #d4ebff;}#sk-container-id-1 div.sk-parallel-item::after {content: \"\";width: 100%;border-bottom: 1px solid gray;flex-grow: 1;}#sk-container-id-1 div.sk-label:hover label.sk-toggleable__label {background-color: #d4ebff;}#sk-container-id-1 div.sk-serial::before {content: \"\";position: absolute;border-left: 1px solid gray;box-sizing: border-box;top: 0;bottom: 0;left: 50%;z-index: 0;}#sk-container-id-1 div.sk-serial {display: flex;flex-direction: column;align-items: center;background-color: white;padding-right: 0.2em;padding-left: 0.2em;position: relative;}#sk-container-id-1 div.sk-item {position: relative;z-index: 1;}#sk-container-id-1 div.sk-parallel {display: flex;align-items: stretch;justify-content: center;background-color: white;position: relative;}#sk-container-id-1 div.sk-item::before, #sk-container-id-1 div.sk-parallel-item::before {content: \"\";position: absolute;border-left: 1px solid gray;box-sizing: border-box;top: 0;bottom: 0;left: 50%;z-index: -1;}#sk-container-id-1 div.sk-parallel-item {display: flex;flex-direction: column;z-index: 1;position: relative;background-color: white;}#sk-container-id-1 div.sk-parallel-item:first-child::after {align-self: flex-end;width: 50%;}#sk-container-id-1 div.sk-parallel-item:last-child::after {align-self: flex-start;width: 50%;}#sk-container-id-1 div.sk-parallel-item:only-child::after {width: 0;}#sk-container-id-1 div.sk-dashed-wrapped {border: 1px dashed gray;margin: 0 0.4em 0.5em 0.4em;box-sizing: border-box;padding-bottom: 0.4em;background-color: white;}#sk-container-id-1 div.sk-label label {font-family: monospace;font-weight: bold;display: inline-block;line-height: 1.2em;}#sk-container-id-1 div.sk-label-container {text-align: center;}#sk-container-id-1 div.sk-container {/* jupyter's `normalize.less` sets `[hidden] { display: none; }` but bootstrap.min.css set `[hidden] { display: none !important; }` so we also need the `!important` here to be able to override the default hidden behavior on the sphinx rendered scikit-learn.org. See: https://github.com/scikit-learn/scikit-learn/issues/21755 */display: inline-block !important;position: relative;}#sk-container-id-1 div.sk-text-repr-fallback {display: none;}</style><div id=\"sk-container-id-1\" class=\"sk-top-container\"><div class=\"sk-text-repr-fallback\"><pre>LinearRegression()</pre><b>In a Jupyter environment, please rerun this cell to show the HTML representation or trust the notebook. <br />On GitHub, the HTML representation is unable to render, please try loading this page with nbviewer.org.</b></div><div class=\"sk-container\" hidden><div class=\"sk-item\"><div class=\"sk-estimator sk-toggleable\"><input class=\"sk-toggleable__control sk-hidden--visually\" id=\"sk-estimator-id-1\" type=\"checkbox\" checked><label for=\"sk-estimator-id-1\" class=\"sk-toggleable__label sk-toggleable__label-arrow\">LinearRegression</label><div class=\"sk-toggleable__content\"><pre>LinearRegression()</pre></div></div></div></div></div>"
      ],
      "text/plain": [
       "LinearRegression()"
      ]
     },
     "execution_count": 16,
     "metadata": {},
     "output_type": "execute_result"
    }
   ],
   "source": [
    "# Train the LTR model\n",
    "ltr_model = LinearRegression()\n",
    "ltr_model.fit(features, relevance_labels)"
   ]
  },
  {
   "cell_type": "code",
   "execution_count": 103,
   "id": "a05941e9-d2f3-4e0e-898b-6e661eec6b11",
   "metadata": {},
   "outputs": [],
   "source": [
    "from pyterrier.transformer import TransformerBase\n",
    "\n",
    "class LTRTransformer(TransformerBase):\n",
    "\n",
    "    def __init__(self, ltr_model, feature_extractor=None):\n",
    "        # ltr_model is your trained LTR model, e.g., LinearRegression\n",
    "        self.ltr_model = ltr_model\n",
    "        # feature_extractor is a function/transformer that takes a dataframe with 'qid' and 'doc_id' and returns the features\n",
    "        self.feature_extractor = feature_extractor\n",
    "\n",
    "    def transform(self, qrels_df):\n",
    "        return result_df"
   ]
  },
  {
   "cell_type": "code",
   "execution_count": 104,
   "id": "c7287e72-6fbd-43d7-841d-351eb55dc833",
   "metadata": {},
   "outputs": [],
   "source": [
    "ltr_transformer = LTRTransformer(ltr_model)"
   ]
  },
  {
   "cell_type": "code",
   "execution_count": 105,
   "id": "10ae5c19-84fc-4622-82b0-539695e796be",
   "metadata": {},
   "outputs": [
    {
     "ename": "TypeError",
     "evalue": "LTRTransformer.transform() missing 1 required positional argument: 'other'",
     "output_type": "error",
     "traceback": [
      "\u001b[0;31m---------------------------------------------------------------------------\u001b[0m",
      "\u001b[0;31mTypeError\u001b[0m                                 Traceback (most recent call last)",
      "Cell \u001b[0;32mIn[105], line 1\u001b[0m\n\u001b[0;32m----> 1\u001b[0m results \u001b[38;5;241m=\u001b[39m \u001b[43mpt\u001b[49m\u001b[38;5;241;43m.\u001b[39;49m\u001b[43mExperiment\u001b[49m\u001b[43m(\u001b[49m\n\u001b[1;32m      2\u001b[0m \u001b[43m    \u001b[49m\u001b[43m[\u001b[49m\u001b[43mltr_transformer\u001b[49m\u001b[43m]\u001b[49m\u001b[43m,\u001b[49m\n\u001b[1;32m      3\u001b[0m \u001b[43m    \u001b[49m\u001b[43mvalidation_queries\u001b[49m\u001b[43m,\u001b[49m\n\u001b[1;32m      4\u001b[0m \u001b[43m    \u001b[49m\u001b[43mvalidation_qrels\u001b[49m\u001b[43m,\u001b[49m\n\u001b[1;32m      5\u001b[0m \u001b[43m    \u001b[49m\u001b[43meval_metrics\u001b[49m\u001b[38;5;241;43m=\u001b[39;49m\u001b[43m[\u001b[49m\u001b[38;5;124;43m\"\u001b[39;49m\u001b[38;5;124;43mmap\u001b[39;49m\u001b[38;5;124;43m\"\u001b[39;49m\u001b[43m,\u001b[49m\u001b[43m \u001b[49m\u001b[38;5;124;43m\"\u001b[39;49m\u001b[38;5;124;43mndcg\u001b[39;49m\u001b[38;5;124;43m\"\u001b[39;49m\u001b[43m]\u001b[49m\u001b[43m,\u001b[49m\n\u001b[1;32m      6\u001b[0m \u001b[43m    \u001b[49m\u001b[43mnames\u001b[49m\u001b[38;5;241;43m=\u001b[39;49m\u001b[43m[\u001b[49m\u001b[38;5;124;43m\"\u001b[39;49m\u001b[38;5;124;43mMy LTR Model\u001b[39;49m\u001b[38;5;124;43m\"\u001b[39;49m\u001b[43m]\u001b[49m\n\u001b[1;32m      7\u001b[0m \u001b[43m)\u001b[49m\n",
      "File \u001b[0;32m/usr/local/lib/python3.10/dist-packages/pyterrier/pipelines.py:450\u001b[0m, in \u001b[0;36mExperiment\u001b[0;34m(retr_systems, topics, qrels, eval_metrics, names, perquery, dataframe, batch_size, filter_by_qrels, filter_by_topics, baseline, test, correction, correction_alpha, highlight, round, verbose, save_dir, save_mode, **kwargs)\u001b[0m\n\u001b[1;32m    447\u001b[0m \u001b[38;5;28;01mif\u001b[39;00m save_dir \u001b[38;5;129;01mis\u001b[39;00m \u001b[38;5;129;01mnot\u001b[39;00m \u001b[38;5;28;01mNone\u001b[39;00m:\n\u001b[1;32m    448\u001b[0m     save_file \u001b[38;5;241m=\u001b[39m os\u001b[38;5;241m.\u001b[39mpath\u001b[38;5;241m.\u001b[39mjoin(save_dir, \u001b[38;5;124m\"\u001b[39m\u001b[38;5;132;01m%s\u001b[39;00m\u001b[38;5;124m.res.gz\u001b[39m\u001b[38;5;124m\"\u001b[39m \u001b[38;5;241m%\u001b[39m name)\n\u001b[0;32m--> 450\u001b[0m time, evalMeasuresDict \u001b[38;5;241m=\u001b[39m \u001b[43m_run_and_evaluate\u001b[49m\u001b[43m(\u001b[49m\n\u001b[1;32m    451\u001b[0m \u001b[43m    \u001b[49m\u001b[43msystem\u001b[49m\u001b[43m,\u001b[49m\u001b[43m \u001b[49m\u001b[43mtopics\u001b[49m\u001b[43m,\u001b[49m\u001b[43m \u001b[49m\u001b[43mqrels\u001b[49m\u001b[43m,\u001b[49m\u001b[43m \u001b[49m\u001b[43meval_metrics\u001b[49m\u001b[43m,\u001b[49m\u001b[43m \u001b[49m\n\u001b[1;32m    452\u001b[0m \u001b[43m    \u001b[49m\u001b[43mperquery\u001b[49m\u001b[38;5;241;43m=\u001b[39;49m\u001b[43mperquery\u001b[49m\u001b[43m \u001b[49m\u001b[38;5;129;43;01mor\u001b[39;49;00m\u001b[43m \u001b[49m\u001b[43mbaseline\u001b[49m\u001b[43m \u001b[49m\u001b[38;5;129;43;01mis\u001b[39;49;00m\u001b[43m \u001b[49m\u001b[38;5;129;43;01mnot\u001b[39;49;00m\u001b[43m \u001b[49m\u001b[38;5;28;43;01mNone\u001b[39;49;00m\u001b[43m,\u001b[49m\u001b[43m \u001b[49m\n\u001b[1;32m    453\u001b[0m \u001b[43m    \u001b[49m\u001b[43mbatch_size\u001b[49m\u001b[38;5;241;43m=\u001b[39;49m\u001b[43mbatch_size\u001b[49m\u001b[43m,\u001b[49m\u001b[43m \u001b[49m\n\u001b[1;32m    454\u001b[0m \u001b[43m    \u001b[49m\u001b[43mbackfill_qids\u001b[49m\u001b[38;5;241;43m=\u001b[39;49m\u001b[43mall_topic_qids\u001b[49m\u001b[43m \u001b[49m\u001b[38;5;28;43;01mif\u001b[39;49;00m\u001b[43m \u001b[49m\u001b[43mperquery\u001b[49m\u001b[43m \u001b[49m\u001b[38;5;28;43;01melse\u001b[39;49;00m\u001b[43m \u001b[49m\u001b[38;5;28;43;01mNone\u001b[39;49;00m\u001b[43m,\u001b[49m\n\u001b[1;32m    455\u001b[0m \u001b[43m    \u001b[49m\u001b[43msave_file\u001b[49m\u001b[38;5;241;43m=\u001b[39;49m\u001b[43msave_file\u001b[49m\u001b[43m,\u001b[49m\n\u001b[1;32m    456\u001b[0m \u001b[43m    \u001b[49m\u001b[43msave_mode\u001b[49m\u001b[38;5;241;43m=\u001b[39;49m\u001b[43msave_mode\u001b[49m\u001b[43m,\u001b[49m\n\u001b[1;32m    457\u001b[0m \u001b[43m    \u001b[49m\u001b[43mpbar\u001b[49m\u001b[38;5;241;43m=\u001b[39;49m\u001b[43mpbar\u001b[49m\u001b[43m)\u001b[49m\n\u001b[1;32m    459\u001b[0m \u001b[38;5;28;01mif\u001b[39;00m baseline \u001b[38;5;129;01mis\u001b[39;00m \u001b[38;5;129;01mnot\u001b[39;00m \u001b[38;5;28;01mNone\u001b[39;00m:\n\u001b[1;32m    460\u001b[0m     evalDictsPerQ\u001b[38;5;241m.\u001b[39mappend(evalMeasuresDict)\n",
      "File \u001b[0;32m/usr/local/lib/python3.10/dist-packages/pyterrier/pipelines.py:170\u001b[0m, in \u001b[0;36m_run_and_evaluate\u001b[0;34m(system, topics, qrels, metrics, pbar, save_mode, save_file, perquery, batch_size, backfill_qids)\u001b[0m\n\u001b[1;32m    166\u001b[0m \u001b[38;5;28;01melif\u001b[39;00m batch_size \u001b[38;5;129;01mis\u001b[39;00m \u001b[38;5;28;01mNone\u001b[39;00m:\n\u001b[1;32m    167\u001b[0m     \u001b[38;5;66;03m#transformer, evaluate all queries at once\u001b[39;00m\n\u001b[1;32m    169\u001b[0m     starttime \u001b[38;5;241m=\u001b[39m timer()\n\u001b[0;32m--> 170\u001b[0m     res \u001b[38;5;241m=\u001b[39m \u001b[43msystem\u001b[49m\u001b[38;5;241;43m.\u001b[39;49m\u001b[43mtransform\u001b[49m\u001b[43m(\u001b[49m\u001b[43mtopics\u001b[49m\u001b[43m)\u001b[49m\n\u001b[1;32m    171\u001b[0m     endtime \u001b[38;5;241m=\u001b[39m timer()\n\u001b[1;32m    172\u001b[0m     runtime \u001b[38;5;241m=\u001b[39m  (endtime \u001b[38;5;241m-\u001b[39m starttime) \u001b[38;5;241m*\u001b[39m \u001b[38;5;241m1000.\u001b[39m\n",
      "\u001b[0;31mTypeError\u001b[0m: LTRTransformer.transform() missing 1 required positional argument: 'other'"
     ]
    }
   ],
   "source": [
    "results = pt.Experiment(\n",
    "    [ltr_transformer],\n",
    "    validation_queries,\n",
    "    validation_qrels,\n",
    "    eval_metrics=[\"map\", \"ndcg\"],\n",
    "    names=[\"My LTR Model\"]\n",
    ")"
   ]
  },
  {
   "cell_type": "markdown",
   "id": "83652004-eae1-4be7-a504-00d279d5f0da",
   "metadata": {},
   "source": [
    "## Rank Fusion"
   ]
  },
  {
   "cell_type": "code",
   "execution_count": 108,
   "id": "13116358-0c1b-487c-ac4f-1bb4a76b0e9c",
   "metadata": {},
   "outputs": [],
   "source": [
    "def rank_fusion(qid, bm25_rank, lm_rank):\n",
    "    # Simple average of ranks\n",
    "    fusion_rank = (bm25_rank + lm_rank) / 2\n",
    "\n",
    "    return pd.DataFrame({\n",
    "        \"qid\": qid,\n",
    "        \"doc_id\": bm25_results.loc[bm25_results[\"qid\"] == qid, \"doc_id\"].values,\n",
    "        \"rank\": fusion_rank,\n",
    "        \"score\": 0.0,  # You can set a default score or leave it as 0\n",
    "        \"name\": \"RankFusion\"\n",
    "    })\n",
    "\n",
    "# Apply rank fusion for each query\n",
    "fusion_results = pd.concat([\n",
    "    rank_fusion(qid, bm25_results.loc[bm25_results[\"qid\"] == qid, \"rank\"].values, lm_results.loc[lm_results[\"qid\"] == qid, \"rank\"].values)\n",
    "    for qid in validation_queries[\"qid\"]\n",
    "])"
   ]
  },
  {
   "cell_type": "code",
   "execution_count": 109,
   "id": "d1a89d19-235c-4f06-af82-7137405ec57e",
   "metadata": {},
   "outputs": [
    {
     "name": "stdout",
     "output_type": "stream",
     "text": [
      "Empty DataFrame\n",
      "Columns: [qid, doc_id, rank, score, name]\n",
      "Index: []\n"
     ]
    }
   ],
   "source": [
    "print(fusion_results)"
   ]
  },
  {
   "cell_type": "code",
   "execution_count": null,
   "id": "8f0f8ffb-e42d-40fe-aadd-bc6b05239b44",
   "metadata": {},
   "outputs": [],
   "source": [
    "# Use the fusion_results as the input for the PyTerrier Experiment\n",
    "results = pt.Experiment(\n",
    "    [fusion_results],\n",
    "    validation_queries,\n",
    "    validation_qrels,\n",
    "    eval_metrics=[\"map\", \"ndcg\"],\n",
    "    names=[\"Rank Fusion Model\"]\n",
    ")"
   ]
  },
  {
   "cell_type": "markdown",
   "id": "6cb92562-4713-4c96-bbce-61ba2f70a131",
   "metadata": {},
   "source": [
    "## Just combination"
   ]
  },
  {
   "cell_type": "code",
   "execution_count": 56,
   "id": "1e3ce026-fde8-4774-a215-7b4ed76b3a57",
   "metadata": {},
   "outputs": [
    {
     "data": {
      "text/html": [
       "<div>\n",
       "<style scoped>\n",
       "    .dataframe tbody tr th:only-of-type {\n",
       "        vertical-align: middle;\n",
       "    }\n",
       "\n",
       "    .dataframe tbody tr th {\n",
       "        vertical-align: top;\n",
       "    }\n",
       "\n",
       "    .dataframe thead th {\n",
       "        text-align: right;\n",
       "    }\n",
       "</style>\n",
       "<table border=\"1\" class=\"dataframe\">\n",
       "  <thead>\n",
       "    <tr style=\"text-align: right;\">\n",
       "      <th></th>\n",
       "      <th>qid</th>\n",
       "      <th>docno</th>\n",
       "      <th>rank</th>\n",
       "      <th>score</th>\n",
       "      <th>name</th>\n",
       "      <th>relevance</th>\n",
       "      <th>iteration</th>\n",
       "      <th>query</th>\n",
       "    </tr>\n",
       "  </thead>\n",
       "  <tbody>\n",
       "    <tr>\n",
       "      <th>4376</th>\n",
       "      <td>q062222431</td>\n",
       "      <td>doc062200201937</td>\n",
       "      <td>1</td>\n",
       "      <td>9.999980</td>\n",
       "      <td>bm25-b=0.75-k_1=1.2</td>\n",
       "      <td>0</td>\n",
       "      <td>0</td>\n",
       "      <td>car battery</td>\n",
       "    </tr>\n",
       "    <tr>\n",
       "      <th>6295</th>\n",
       "      <td>q06225704</td>\n",
       "      <td>doc062200201560</td>\n",
       "      <td>2</td>\n",
       "      <td>9.998375</td>\n",
       "      <td>bm25-b=0.75-k_1=1.2</td>\n",
       "      <td>0</td>\n",
       "      <td>0</td>\n",
       "      <td>recipe gateau without eggs</td>\n",
       "    </tr>\n",
       "    <tr>\n",
       "      <th>7477</th>\n",
       "      <td>q06229171</td>\n",
       "      <td>doc062200209815</td>\n",
       "      <td>3</td>\n",
       "      <td>9.995788</td>\n",
       "      <td>bm25-b=0.75-k_1=1.2</td>\n",
       "      <td>0</td>\n",
       "      <td>0</td>\n",
       "      <td>ugc bordeaux</td>\n",
       "    </tr>\n",
       "    <tr>\n",
       "      <th>3406</th>\n",
       "      <td>q062219091</td>\n",
       "      <td>doc062200111126</td>\n",
       "      <td>4</td>\n",
       "      <td>9.993866</td>\n",
       "      <td>bm25-b=0.75-k_1=1.2</td>\n",
       "      <td>0</td>\n",
       "      <td>0</td>\n",
       "      <td>purchase car</td>\n",
       "    </tr>\n",
       "    <tr>\n",
       "      <th>4336</th>\n",
       "      <td>q062222128</td>\n",
       "      <td>doc062200109857</td>\n",
       "      <td>5</td>\n",
       "      <td>9.993134</td>\n",
       "      <td>bm25-b=0.75-k_1=1.2</td>\n",
       "      <td>0</td>\n",
       "      <td>0</td>\n",
       "      <td>ethanol car</td>\n",
       "    </tr>\n",
       "    <tr>\n",
       "      <th>...</th>\n",
       "      <td>...</td>\n",
       "      <td>...</td>\n",
       "      <td>...</td>\n",
       "      <td>...</td>\n",
       "      <td>...</td>\n",
       "      <td>...</td>\n",
       "      <td>...</td>\n",
       "      <td>...</td>\n",
       "    </tr>\n",
       "    <tr>\n",
       "      <th>6343</th>\n",
       "      <td>q06225918</td>\n",
       "      <td>doc062200110415</td>\n",
       "      <td>7721</td>\n",
       "      <td>0.010069</td>\n",
       "      <td>bm25-b=0.75-k_1=1.2</td>\n",
       "      <td>0</td>\n",
       "      <td>0</td>\n",
       "      <td>starterre</td>\n",
       "    </tr>\n",
       "    <tr>\n",
       "      <th>896</th>\n",
       "      <td>q062212370</td>\n",
       "      <td>doc062200210239</td>\n",
       "      <td>7722</td>\n",
       "      <td>0.007209</td>\n",
       "      <td>bm25-b=0.75-k_1=1.2</td>\n",
       "      <td>0</td>\n",
       "      <td>0</td>\n",
       "      <td>hybrid car</td>\n",
       "    </tr>\n",
       "    <tr>\n",
       "      <th>4924</th>\n",
       "      <td>q062224315</td>\n",
       "      <td>doc062200108168</td>\n",
       "      <td>7723</td>\n",
       "      <td>0.002156</td>\n",
       "      <td>bm25-b=0.75-k_1=1.2</td>\n",
       "      <td>0</td>\n",
       "      <td>0</td>\n",
       "      <td>self consumption solar panels</td>\n",
       "    </tr>\n",
       "    <tr>\n",
       "      <th>874</th>\n",
       "      <td>q062212365</td>\n",
       "      <td>doc062200210942</td>\n",
       "      <td>7724</td>\n",
       "      <td>0.001323</td>\n",
       "      <td>bm25-b=0.75-k_1=1.2</td>\n",
       "      <td>0</td>\n",
       "      <td>0</td>\n",
       "      <td>electric car autonomy</td>\n",
       "    </tr>\n",
       "    <tr>\n",
       "      <th>1664</th>\n",
       "      <td>q06221468</td>\n",
       "      <td>doc062200103586</td>\n",
       "      <td>7725</td>\n",
       "      <td>0.001260</td>\n",
       "      <td>bm25-b=0.75-k_1=1.2</td>\n",
       "      <td>1</td>\n",
       "      <td>0</td>\n",
       "      <td>actual costs</td>\n",
       "    </tr>\n",
       "  </tbody>\n",
       "</table>\n",
       "<p>7725 rows × 8 columns</p>\n",
       "</div>"
      ],
      "text/plain": [
       "             qid            docno  rank     score                 name  \\\n",
       "4376  q062222431  doc062200201937     1  9.999980  bm25-b=0.75-k_1=1.2   \n",
       "6295   q06225704  doc062200201560     2  9.998375  bm25-b=0.75-k_1=1.2   \n",
       "7477   q06229171  doc062200209815     3  9.995788  bm25-b=0.75-k_1=1.2   \n",
       "3406  q062219091  doc062200111126     4  9.993866  bm25-b=0.75-k_1=1.2   \n",
       "4336  q062222128  doc062200109857     5  9.993134  bm25-b=0.75-k_1=1.2   \n",
       "...          ...              ...   ...       ...                  ...   \n",
       "6343   q06225918  doc062200110415  7721  0.010069  bm25-b=0.75-k_1=1.2   \n",
       "896   q062212370  doc062200210239  7722  0.007209  bm25-b=0.75-k_1=1.2   \n",
       "4924  q062224315  doc062200108168  7723  0.002156  bm25-b=0.75-k_1=1.2   \n",
       "874   q062212365  doc062200210942  7724  0.001323  bm25-b=0.75-k_1=1.2   \n",
       "1664   q06221468  doc062200103586  7725  0.001260  bm25-b=0.75-k_1=1.2   \n",
       "\n",
       "      relevance iteration                           query  \n",
       "4376          0         0                     car battery  \n",
       "6295          0         0      recipe gateau without eggs  \n",
       "7477          0         0                    ugc bordeaux  \n",
       "3406          0         0                    purchase car  \n",
       "4336          0         0                     ethanol car  \n",
       "...         ...       ...                             ...  \n",
       "6343          0         0                       starterre  \n",
       "896           0         0                      hybrid car  \n",
       "4924          0         0   self consumption solar panels  \n",
       "874           0         0           electric car autonomy  \n",
       "1664          1         0                    actual costs  \n",
       "\n",
       "[7725 rows x 8 columns]"
      ]
     },
     "execution_count": 56,
     "metadata": {},
     "output_type": "execute_result"
    }
   ],
   "source": [
    "bm25_results.rename(columns={'doc_id': 'docno'})\n",
    "lm_results.rename(columns={'doc_id': 'docno'})"
   ]
  },
  {
   "cell_type": "code",
   "execution_count": 57,
   "id": "44224971-5716-413d-9d29-4c2153d4406d",
   "metadata": {},
   "outputs": [
    {
     "ename": "KeyError",
     "evalue": "\"None of ['docno'] are in the columns\"",
     "output_type": "error",
     "traceback": [
      "\u001b[0;31m---------------------------------------------------------------------------\u001b[0m",
      "\u001b[0;31mKeyError\u001b[0m                                  Traceback (most recent call last)",
      "\u001b[0;32m/tmp/ipykernel_5370/3457063871.py\u001b[0m in \u001b[0;36m?\u001b[0;34m()\u001b[0m\n\u001b[0;32m----> 1\u001b[0;31m \u001b[0mbm25_results\u001b[0m \u001b[0;34m=\u001b[0m \u001b[0mbm25_results\u001b[0m\u001b[0;34m.\u001b[0m\u001b[0mset_index\u001b[0m\u001b[0;34m(\u001b[0m\u001b[0;34m'docno'\u001b[0m\u001b[0;34m)\u001b[0m\u001b[0;34m\u001b[0m\u001b[0;34m\u001b[0m\u001b[0m\n\u001b[0m\u001b[1;32m      2\u001b[0m \u001b[0mlm_results\u001b[0m \u001b[0;34m=\u001b[0m \u001b[0mlm_results\u001b[0m\u001b[0;34m.\u001b[0m\u001b[0mset_index\u001b[0m\u001b[0;34m(\u001b[0m\u001b[0;34m'docno'\u001b[0m\u001b[0;34m)\u001b[0m\u001b[0;34m\u001b[0m\u001b[0;34m\u001b[0m\u001b[0m\n",
      "\u001b[0;32m/usr/local/lib/python3.10/dist-packages/pandas/core/frame.py\u001b[0m in \u001b[0;36m?\u001b[0;34m(self, keys, drop, append, inplace, verify_integrity)\u001b[0m\n\u001b[1;32m   5869\u001b[0m                     \u001b[0;32mif\u001b[0m \u001b[0;32mnot\u001b[0m \u001b[0mfound\u001b[0m\u001b[0;34m:\u001b[0m\u001b[0;34m\u001b[0m\u001b[0;34m\u001b[0m\u001b[0m\n\u001b[1;32m   5870\u001b[0m                         \u001b[0mmissing\u001b[0m\u001b[0;34m.\u001b[0m\u001b[0mappend\u001b[0m\u001b[0;34m(\u001b[0m\u001b[0mcol\u001b[0m\u001b[0;34m)\u001b[0m\u001b[0;34m\u001b[0m\u001b[0;34m\u001b[0m\u001b[0m\n\u001b[1;32m   5871\u001b[0m \u001b[0;34m\u001b[0m\u001b[0m\n\u001b[1;32m   5872\u001b[0m         \u001b[0;32mif\u001b[0m \u001b[0mmissing\u001b[0m\u001b[0;34m:\u001b[0m\u001b[0;34m\u001b[0m\u001b[0;34m\u001b[0m\u001b[0m\n\u001b[0;32m-> 5873\u001b[0;31m             \u001b[0;32mraise\u001b[0m \u001b[0mKeyError\u001b[0m\u001b[0;34m(\u001b[0m\u001b[0;34mf\"None of {missing} are in the columns\"\u001b[0m\u001b[0;34m)\u001b[0m\u001b[0;34m\u001b[0m\u001b[0;34m\u001b[0m\u001b[0m\n\u001b[0m\u001b[1;32m   5874\u001b[0m \u001b[0;34m\u001b[0m\u001b[0m\n\u001b[1;32m   5875\u001b[0m         \u001b[0;32mif\u001b[0m \u001b[0minplace\u001b[0m\u001b[0;34m:\u001b[0m\u001b[0;34m\u001b[0m\u001b[0;34m\u001b[0m\u001b[0m\n\u001b[1;32m   5876\u001b[0m             \u001b[0mframe\u001b[0m \u001b[0;34m=\u001b[0m \u001b[0mself\u001b[0m\u001b[0;34m\u001b[0m\u001b[0;34m\u001b[0m\u001b[0m\n",
      "\u001b[0;31mKeyError\u001b[0m: \"None of ['docno'] are in the columns\""
     ]
    }
   ],
   "source": [
    "bm25_results = bm25_results.set_index('docno')\n",
    "lm_results = lm_results.set_index('docno')"
   ]
  },
  {
   "cell_type": "code",
   "execution_count": 53,
   "id": "c6aa1349-4380-4d05-9a07-a793b9736d5b",
   "metadata": {},
   "outputs": [
    {
     "name": "stdout",
     "output_type": "stream",
     "text": [
      "Compose(Transformer(), FUnion(Transformer(), pt.apply.doc_score()))\n"
     ]
    }
   ],
   "source": [
    "bm25 = pt.Transformer.from_df(bm25_results)\n",
    "lm = pt.Transformer.from_df(lm_results)\n",
    "featureB = pt.apply.doc_score(lambda row: 1)\n",
    "\n",
    "pipeline = bm25 >> (lm ** featureB)\n",
    "print(pipeline)"
   ]
  },
  {
   "cell_type": "code",
   "execution_count": 48,
   "id": "3f7a9b75-c893-4fe4-9869-0457c14f6342",
   "metadata": {},
   "outputs": [
    {
     "data": {
      "text/html": [
       "<div>\n",
       "<style scoped>\n",
       "    .dataframe tbody tr th:only-of-type {\n",
       "        vertical-align: middle;\n",
       "    }\n",
       "\n",
       "    .dataframe tbody tr th {\n",
       "        vertical-align: top;\n",
       "    }\n",
       "\n",
       "    .dataframe thead th {\n",
       "        text-align: right;\n",
       "    }\n",
       "</style>\n",
       "<table border=\"1\" class=\"dataframe\">\n",
       "  <thead>\n",
       "    <tr style=\"text-align: right;\">\n",
       "      <th></th>\n",
       "      <th>name</th>\n",
       "      <th>ndcg_cut_5</th>\n",
       "    </tr>\n",
       "  </thead>\n",
       "  <tbody>\n",
       "    <tr>\n",
       "      <th>0</th>\n",
       "      <td>Transformer()</td>\n",
       "      <td>0.141440</td>\n",
       "    </tr>\n",
       "    <tr>\n",
       "      <th>1</th>\n",
       "      <td>Transformer()</td>\n",
       "      <td>0.324172</td>\n",
       "    </tr>\n",
       "    <tr>\n",
       "      <th>2</th>\n",
       "      <td>Compose(Transformer(), Transformer())</td>\n",
       "      <td>0.324172</td>\n",
       "    </tr>\n",
       "  </tbody>\n",
       "</table>\n",
       "</div>"
      ],
      "text/plain": [
       "                                    name  ndcg_cut_5\n",
       "0                          Transformer()    0.141440\n",
       "1                          Transformer()    0.324172\n",
       "2  Compose(Transformer(), Transformer())    0.324172"
      ]
     },
     "execution_count": 48,
     "metadata": {},
     "output_type": "execute_result"
    }
   ],
   "source": [
    "pt.Experiment([bm25, lm, pipeline], pd.DataFrame(training_queries), training_qrels, eval_metrics=['ndcg_cut_5'])"
   ]
  },
  {
   "cell_type": "code",
   "execution_count": 44,
   "id": "8703a204-471d-4a70-8c9b-bbc65331d37b",
   "metadata": {},
   "outputs": [],
   "source": [
    "from sklearn.ensemble import RandomForestRegressor\n",
    "rf = RandomForestRegressor(n_estimators=400)"
   ]
  },
  {
   "cell_type": "code",
   "execution_count": null,
   "id": "dc3b79d7-cd0d-4d26-9aef-af793414ff79",
   "metadata": {},
   "outputs": [],
   "source": [
    "rf_pipe = pipeline >> pt.ltr.apply_learned_model(rf)\n",
    "rf_pipe.fit(training_queries, training_qrels)"
   ]
  },
  {
   "cell_type": "code",
   "execution_count": null,
   "id": "63cb96c4-7ca2-4721-8e54-808e692d9512",
   "metadata": {},
   "outputs": [],
   "source": []
  }
 ],
 "metadata": {
  "kernelspec": {
   "display_name": "Python 3 (ipykernel)",
   "language": "python",
   "name": "python3"
  },
  "language_info": {
   "codemirror_mode": {
    "name": "ipython",
    "version": 3
   },
   "file_extension": ".py",
   "mimetype": "text/x-python",
   "name": "python",
   "nbconvert_exporter": "python",
   "pygments_lexer": "ipython3",
   "version": "3.10.12"
  }
 },
 "nbformat": 4,
 "nbformat_minor": 5
}
