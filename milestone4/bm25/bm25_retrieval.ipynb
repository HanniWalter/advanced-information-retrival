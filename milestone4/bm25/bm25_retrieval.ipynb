{
 "cells": [
  {
   "cell_type": "code",
   "execution_count": null,
   "metadata": {},
   "outputs": [
    {
     "name": "stdout",
     "output_type": "stream",
     "text": [
      "terrier-assemblies 5.8 jar-with-dependencies not found, downloading to /root/.pyterrier...\n",
      "100% [......................................................................] 104292653 / 104292653Done\n",
      "terrier-python-helper 0.0.8 jar not found, downloading to /root/.pyterrier...\n",
      "100% [..............................................................................] 37524 / 37524Done\n"
     ]
    },
    {
     "name": "stderr",
     "output_type": "stream",
     "text": [
      "PyTerrier 0.9.2 has loaded Terrier 5.8 (built by craigm on 2023-11-01 18:05) and terrier-helper 0.0.8\n",
      "\n",
      "No etc/terrier.properties, using terrier.default.properties for bootstrap configuration.\n"
     ]
    }
   ],
   "source": [
    "from tira.third_party_integrations import ir_datasets, ensure_pyterrier_is_loaded, persist_and_normalize_run\n",
    "import pyterrier as pt\n",
    "import pandas as pd\n",
    "\n",
    "if not pt.started():\n",
    "    pt.init(boot_packages=['mam10eks:custom-terrier-token-processing:0.0.1'])\n",
    "    from jnius import autoclass\n",
    "\n",
    "ensure_pyterrier_is_loaded()\n",
    "\n",
    "training_dataset = 'ir-lab-jena-leipzig-wise-2023/training-20231104-training'\n",
    "validation_dataset = 'ir-lab-jena-leipzig-wise-2023/validation-20231104-training'"
   ]
  },
  {
   "cell_type": "code",
   "execution_count": 8,
   "metadata": {},
   "outputs": [],
   "source": [
    "def create_index(documents):\n",
    "    indexer = pt.IterDictIndexer(\"/tmp/index\", overwrite=True, meta={'docno': 100, 'text': 20480}, verbose=True)\n",
    "    index_ref = indexer.index(({'docno': i.doc_id, 'text': i.text} for i in documents))\n",
    "    return pt.IndexFactory.of(index_ref)"
   ]
  },
  {
   "cell_type": "code",
   "execution_count": null,
   "metadata": {},
   "outputs": [],
   "source": [
    "import os\n",
    "import shutil\n",
    "\n",
    "def recreateOutputDir(dir):\n",
    "    finalDir = os.path.join(os.getcwd(), dir)\n",
    "    shutil.rmtree(finalDir, ignore_errors=True)\n",
    "    os.makedirs(finalDir, )"
   ]
  },
  {
   "cell_type": "code",
   "execution_count": null,
   "metadata": {},
   "outputs": [],
   "source": [
    "def run_bm25_grid_search_run(index, output_dir, queries):\n",
    "    \"\"\"\n",
    "        defaults: http://terrier.org/docs/current/javadoc/org/terrier/matching/models/BM25.html\n",
    "        k_1 = 1.2d, k_3 = 8d, b = 0.75d\n",
    "        We do not tune parameter k_3, as this parameter only impacts queries with reduntant terms.\n",
    "    \"\"\"\n",
    "    # read environment variables\n",
    "    b= os.environ.get('BM25_b', \"error\" )\n",
    "    if b == \"error\":\n",
    "        raise ValueError(\"Environment variable BM25_b is not set\")\n",
    "    b = float(b)\n",
    "    k_1 = os.environ.get('BM25_k_1', \"error\" )\n",
    "    if k_1 == \"error\":\n",
    "        raise ValueError(\"Environment variable BM25_k_1 is not set\")\n",
    "    k_1 = float(k_1)\n",
    "\n",
    "    print(f'BM25_b={b}, BM25_k_1={k_1}')\n",
    "\n",
    "    system = f'bm25-b={b}-k_1={k_1}'\n",
    "    configuration = {\"bm25.b\" : b, \"bm25.k_1\": k_1}\n",
    "    run_output_dir = output_dir + '/' + system\n",
    "\n",
    "    recreateOutputDir(run_output_dir)\n",
    "    # !rm -Rf {run_output_dir}\n",
    "    # !mkdir -p {run_output_dir}\n",
    "    \n",
    "    print(f'Run {system}')\n",
    "    BM25 = pt.BatchRetrieve(index, wmodel=\"BM25\", controls=configuration, verbose=True)\n",
    "    run = BM25(queries)\n",
    "    persist_and_normalize_run(run, system, run_output_dir)"
   ]
  },
  {
   "cell_type": "markdown",
   "metadata": {},
   "source": []
  },
  {
   "cell_type": "code",
   "execution_count": 5,
   "metadata": {},
   "outputs": [
    {
     "name": "stdout",
     "output_type": "stream",
     "text": [
      "Load ir_dataset \"ir-lab-jena-leipzig-wise-2023/validation-20231104-training\" from tira.\n",
      "No settings given in /root/.tira/.tira-settings.json. I will use defaults.\n",
      "No settings given in /root/.tira/.tira-settings.json. I will use defaults.\n"
     ]
    },
    {
     "data": {
      "text/html": [
       "<div>\n",
       "<style scoped>\n",
       "    .dataframe tbody tr th:only-of-type {\n",
       "        vertical-align: middle;\n",
       "    }\n",
       "\n",
       "    .dataframe tbody tr th {\n",
       "        vertical-align: top;\n",
       "    }\n",
       "\n",
       "    .dataframe thead th {\n",
       "        text-align: right;\n",
       "    }\n",
       "</style>\n",
       "<table border=\"1\" class=\"dataframe\">\n",
       "  <thead>\n",
       "    <tr style=\"text-align: right;\">\n",
       "      <th></th>\n",
       "      <th>qid</th>\n",
       "      <th>query</th>\n",
       "    </tr>\n",
       "  </thead>\n",
       "  <tbody>\n",
       "    <tr>\n",
       "      <th>0</th>\n",
       "      <td>q072224</td>\n",
       "      <td>purchase money</td>\n",
       "    </tr>\n",
       "    <tr>\n",
       "      <th>1</th>\n",
       "      <td>q072226</td>\n",
       "      <td>purchase used car</td>\n",
       "    </tr>\n",
       "    <tr>\n",
       "      <th>2</th>\n",
       "      <td>q072232</td>\n",
       "      <td>buy gold silver</td>\n",
       "    </tr>\n",
       "  </tbody>\n",
       "</table>\n",
       "</div>"
      ],
      "text/plain": [
       "       qid               query\n",
       "0  q072224      purchase money\n",
       "1  q072226   purchase used car\n",
       "2  q072232     buy gold silver"
      ]
     },
     "execution_count": 5,
     "metadata": {},
     "output_type": "execute_result"
    }
   ],
   "source": [
    "dataset = ir_datasets.load(training_dataset)\n",
    "queries = pt.io.read_topics(ir_datasets.topics_file(training_dataset), format='trecxml')\n",
    "#qrels = pd.DataFrame(dataset.qrels_iter()).rename(columns={\"query_id\": \"qid\"})\n",
    "\n",
    "#queries.head(3)"
   ]
  },
  {
   "cell_type": "code",
   "execution_count": 11,
   "metadata": {},
   "outputs": [
    {
     "name": "stdout",
     "output_type": "stream",
     "text": [
      "No settings given in /root/.tira/.tira-settings.json. I will use defaults.\n"
     ]
    }
   ],
   "source": [
    "index = create_index(dataset.docs_iter())\n",
    "b= os.environ.get('BM25_b', \"error\" )\n",
    "if b == \"error\":\n",
    "    raise ValueError(\"Environment variable BM25_b is not set\")\n",
    "b = float(b)\n",
    "k_1 = os.environ.get('BM25_k_1', \"error\" )\n",
    "if k_1 == \"error\":\n",
    "    raise ValueError(\"Environment variable BM25_k_1 is not set\")\n",
    "k_1 = float(k_1)\n",
    "evalmetrics = os.environ.get('EVAL_METRIC', \"error\" )\n",
    "if evalmetrics == \"error\":\n",
    "    raise ValueError(\"Environment variable EVAL_METRIC is not set\")\n",
    "evalmetrics = evalmetrics.split(';')\n",
    "\n",
    "configuration = {\"bm25.b\" : b, \"bm25.k_1\": k_1}\n",
    "bm25Orig = pt.BatchRetrieve(index, wmodel=\"BM25\", controls=configuration, verbose=True)"
   ]
  },
  {
   "cell_type": "code",
   "execution_count": null,
   "metadata": {},
   "outputs": [],
   "source": [
    "run_bm25_grid_search_run(index, 'grid-search/training', queries)\n"
   ]
  },
  {
   "cell_type": "code",
   "execution_count": null,
   "metadata": {},
   "outputs": [],
   "source": [
    "v_dataset = ir_datasets.load(validation_dataset)\n",
    "queries = pt.io.read_topics(ir_datasets.topics_file(validation_dataset), format='trecxml')\n",
    "qrels = pd.DataFrame(v_dataset.qrels_iter()).rename(columns={\"query_id\": \"qid\"})\n",
    "\n",
    "#hier validation dataset nehmen oder ???"
   ]
  },
  {
   "cell_type": "code",
   "execution_count": null,
   "metadata": {},
   "outputs": [],
   "source": [
    "result = pt.Experiment([bm25Orig], pd.DataFrame(queries), qrels, eval_metrics=evalmetrics)\n",
    "print(result)\n",
    "print(type(result))\n",
    "# write results to file\n",
    "result.to_csv('grid-search/validation.csv')"
   ]
  }
 ],
 "metadata": {
  "kernelspec": {
   "display_name": "Python 3 (ipykernel)",
   "language": "python",
   "name": "python3"
  },
  "language_info": {
   "codemirror_mode": {
    "name": "ipython",
    "version": 3
   },
   "file_extension": ".py",
   "mimetype": "text/x-python",
   "name": "python",
   "nbconvert_exporter": "python",
   "pygments_lexer": "ipython3",
   "version": "3.10.12"
  }
 },
 "nbformat": 4,
 "nbformat_minor": 2
}
